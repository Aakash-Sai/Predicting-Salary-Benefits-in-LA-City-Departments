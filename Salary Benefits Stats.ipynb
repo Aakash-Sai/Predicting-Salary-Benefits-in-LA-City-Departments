{
 "cells": [
  {
   "cell_type": "markdown",
   "metadata": {},
   "source": [
    "#### About the Data and my Expected Analysis"
   ]
  },
  {
   "cell_type": "markdown",
   "metadata": {},
   "source": [
    "I have chosen to work on a dataset that contains City Payroll Information for all Los Angeles city departments. These departments are the ones that work for the city and do not involve any private organizations. The dataset includes a variety of variables, such as job titles, salaries, bonuses, and benefit costs. In this project, I am particularly intrigued by the predictive power of various factors on the Benefit Costs and Basic Life insurance coverage of employees that work for LA. Through regression analysis, I hope to uncover insights into the relationships between different attributes and the resulting dependent variable and also explore whether certain components that significantly influence it, providing valuable information for understanding the compensation structure within the city."
   ]
  },
  {
   "cell_type": "markdown",
   "metadata": {},
   "source": [
    "#### Importing Libraries"
   ]
  },
  {
   "cell_type": "code",
   "execution_count": 1,
   "metadata": {
    "vscode": {
     "languageId": "r"
    }
   },
   "outputs": [
    {
     "name": "stderr",
     "output_type": "stream",
     "text": [
      "\n",
      "Attaching package: ‘dplyr’\n",
      "\n",
      "\n",
      "The following objects are masked from ‘package:stats’:\n",
      "\n",
      "    filter, lag\n",
      "\n",
      "\n",
      "The following objects are masked from ‘package:base’:\n",
      "\n",
      "    intersect, setdiff, setequal, union\n",
      "\n",
      "\n",
      "Registered S3 method overwritten by 'GGally':\n",
      "  method from   \n",
      "  +.gg   ggplot2\n",
      "\n",
      "\n",
      "Attaching package: ‘MASS’\n",
      "\n",
      "\n",
      "The following object is masked from ‘package:dplyr’:\n",
      "\n",
      "    select\n",
      "\n",
      "\n"
     ]
    }
   ],
   "source": [
    "library(dplyr)\n",
    "library(ggplot2)\n",
    "library(caTools)\n",
    "library(GGally)\n",
    "library(MASS)"
   ]
  },
  {
   "cell_type": "markdown",
   "metadata": {},
   "source": [
    "#### Data Loading"
   ]
  },
  {
   "cell_type": "code",
   "execution_count": 2,
   "metadata": {
    "vscode": {
     "languageId": "r"
    }
   },
   "outputs": [
    {
     "data": {
      "text/html": [
       "<table class=\"dataframe\">\n",
       "<caption>A data.frame: 6 × 35</caption>\n",
       "<thead>\n",
       "\t<tr><th></th><th scope=col>Row.ID</th><th scope=col>Year</th><th scope=col>Department.Title</th><th scope=col>Payroll.Department</th><th scope=col>Record.Number</th><th scope=col>Job.Class.Title</th><th scope=col>Employment.Type</th><th scope=col>Hourly.or.Event.Rate</th><th scope=col>Projected.Annual.Salary</th><th scope=col>Q1.Payments</th><th scope=col>⋯</th><th scope=col>MOU.Title</th><th scope=col>FMS.Department</th><th scope=col>Job.Class</th><th scope=col>Pay.Grade</th><th scope=col>Average.Health.Cost</th><th scope=col>Average.Dental.Cost</th><th scope=col>Average.Basic.Life</th><th scope=col>Average.Benefit.Cost</th><th scope=col>Benefits.Plan</th><th scope=col>Job.Class.Link</th></tr>\n",
       "\t<tr><th></th><th scope=col>&lt;int&gt;</th><th scope=col>&lt;int&gt;</th><th scope=col>&lt;chr&gt;</th><th scope=col>&lt;int&gt;</th><th scope=col>&lt;dbl&gt;</th><th scope=col>&lt;chr&gt;</th><th scope=col>&lt;chr&gt;</th><th scope=col>&lt;chr&gt;</th><th scope=col>&lt;chr&gt;</th><th scope=col>&lt;chr&gt;</th><th scope=col>⋯</th><th scope=col>&lt;chr&gt;</th><th scope=col>&lt;int&gt;</th><th scope=col>&lt;int&gt;</th><th scope=col>&lt;chr&gt;</th><th scope=col>&lt;chr&gt;</th><th scope=col>&lt;chr&gt;</th><th scope=col>&lt;chr&gt;</th><th scope=col>&lt;chr&gt;</th><th scope=col>&lt;chr&gt;</th><th scope=col>&lt;chr&gt;</th></tr>\n",
       "</thead>\n",
       "<tbody>\n",
       "\t<tr><th scope=row>1</th><td>111391</td><td>2014</td><td>Water And Power (DWP)    </td><td>  NA</td><td>1412316577</td><td>Commercial Service Representative</td><td>Full Time</td><td>      </td><td>$70386.48</td><td>$16129.89</td><td>⋯</td><td>                    </td><td>98</td><td>1230</td><td> </td><td>$16842.08</td><td>$1282.61</td><td>$0.00  </td><td>$18124.69</td><td>DWP   </td><td>http://per.lacity.org/perspecs/1230.pdf</td></tr>\n",
       "\t<tr><th scope=row>2</th><td> 31732</td><td>2013</td><td>Police (LAPD)            </td><td>4301</td><td> 432728338</td><td>Police Officer I                 </td><td>Full Time</td><td>$25.12</td><td>$52450.56</td><td>$11331.00</td><td>⋯</td><td>POLICE OFFICERS UNIT</td><td>70</td><td>2214</td><td>A</td><td>$11651.40</td><td>$898.08 </td><td>$191.04</td><td>$12740.52</td><td>Police</td><td>http://per.lacity.org/perspecs/2214.pdf</td></tr>\n",
       "\t<tr><th scope=row>3</th><td> 27697</td><td>2013</td><td>Police (LAPD)            </td><td>4301</td><td>  97182506</td><td>Police Officer II                </td><td>Full Time</td><td>$42.77</td><td>$89303.76</td><td>$20036.32</td><td>⋯</td><td>POLICE OFFICERS UNIT</td><td>70</td><td>2214</td><td>2</td><td>$11651.40</td><td>$898.08 </td><td>$191.04</td><td>$12740.52</td><td>Police</td><td>http://per.lacity.org/perspecs/2214.pdf</td></tr>\n",
       "\t<tr><th scope=row>4</th><td> 14136</td><td>2013</td><td>Harbor (Port of LA)      </td><td>3201</td><td> 950136941</td><td>Senior Security Officer          </td><td>Full Time</td><td>$28.75</td><td>$60028.96</td><td>$15793.88</td><td>⋯</td><td>SUPV BLUE COLLAR    </td><td>42</td><td>3184</td><td>0</td><td>$10710.24</td><td>$405.24 </td><td>$11.40 </td><td>$11126.88</td><td>City  </td><td>http://per.lacity.org/perspecs/3184.pdf</td></tr>\n",
       "\t<tr><th scope=row>5</th><td> 91896</td><td>2014</td><td>Public Works - Sanitation</td><td>7024</td><td>3230003445</td><td>Senior Clerk Typist              </td><td>Full Time</td><td>$30.92</td><td>$64553.13</td><td>$14700.00</td><td>⋯</td><td>CLERICAL UNIT       </td><td>82</td><td>1368</td><td>0</td><td>$11000.40</td><td>$409.68 </td><td>$11.40 </td><td>$11421.48</td><td>City  </td><td>http://per.lacity.org/perspecs/1368.pdf</td></tr>\n",
       "\t<tr><th scope=row>6</th><td>106560</td><td>2014</td><td>Water And Power (DWP)    </td><td>  NA</td><td> 681385707</td><td>Security Officer                 </td><td>Full Time</td><td>      </td><td>$65959.92</td><td>$26530.26</td><td>⋯</td><td>                    </td><td>98</td><td>3181</td><td> </td><td>$16842.08</td><td>$1282.61</td><td>$0.00  </td><td>$18124.69</td><td>DWP   </td><td>http://per.lacity.org/perspecs/3181.pdf</td></tr>\n",
       "</tbody>\n",
       "</table>\n"
      ],
      "text/latex": [
       "A data.frame: 6 × 35\n",
       "\\begin{tabular}{r|lllllllllllllllllllll}\n",
       "  & Row.ID & Year & Department.Title & Payroll.Department & Record.Number & Job.Class.Title & Employment.Type & Hourly.or.Event.Rate & Projected.Annual.Salary & Q1.Payments & ⋯ & MOU.Title & FMS.Department & Job.Class & Pay.Grade & Average.Health.Cost & Average.Dental.Cost & Average.Basic.Life & Average.Benefit.Cost & Benefits.Plan & Job.Class.Link\\\\\n",
       "  & <int> & <int> & <chr> & <int> & <dbl> & <chr> & <chr> & <chr> & <chr> & <chr> & ⋯ & <chr> & <int> & <int> & <chr> & <chr> & <chr> & <chr> & <chr> & <chr> & <chr>\\\\\n",
       "\\hline\n",
       "\t1 & 111391 & 2014 & Water And Power (DWP)     &   NA & 1412316577 & Commercial Service Representative & Full Time &        & \\$70386.48 & \\$16129.89 & ⋯ &                      & 98 & 1230 &   & \\$16842.08 & \\$1282.61 & \\$0.00   & \\$18124.69 & DWP    & http://per.lacity.org/perspecs/1230.pdf\\\\\n",
       "\t2 &  31732 & 2013 & Police (LAPD)             & 4301 &  432728338 & Police Officer I                  & Full Time & \\$25.12 & \\$52450.56 & \\$11331.00 & ⋯ & POLICE OFFICERS UNIT & 70 & 2214 & A & \\$11651.40 & \\$898.08  & \\$191.04 & \\$12740.52 & Police & http://per.lacity.org/perspecs/2214.pdf\\\\\n",
       "\t3 &  27697 & 2013 & Police (LAPD)             & 4301 &   97182506 & Police Officer II                 & Full Time & \\$42.77 & \\$89303.76 & \\$20036.32 & ⋯ & POLICE OFFICERS UNIT & 70 & 2214 & 2 & \\$11651.40 & \\$898.08  & \\$191.04 & \\$12740.52 & Police & http://per.lacity.org/perspecs/2214.pdf\\\\\n",
       "\t4 &  14136 & 2013 & Harbor (Port of LA)       & 3201 &  950136941 & Senior Security Officer           & Full Time & \\$28.75 & \\$60028.96 & \\$15793.88 & ⋯ & SUPV BLUE COLLAR     & 42 & 3184 & 0 & \\$10710.24 & \\$405.24  & \\$11.40  & \\$11126.88 & City   & http://per.lacity.org/perspecs/3184.pdf\\\\\n",
       "\t5 &  91896 & 2014 & Public Works - Sanitation & 7024 & 3230003445 & Senior Clerk Typist               & Full Time & \\$30.92 & \\$64553.13 & \\$14700.00 & ⋯ & CLERICAL UNIT        & 82 & 1368 & 0 & \\$11000.40 & \\$409.68  & \\$11.40  & \\$11421.48 & City   & http://per.lacity.org/perspecs/1368.pdf\\\\\n",
       "\t6 & 106560 & 2014 & Water And Power (DWP)     &   NA &  681385707 & Security Officer                  & Full Time &        & \\$65959.92 & \\$26530.26 & ⋯ &                      & 98 & 3181 &   & \\$16842.08 & \\$1282.61 & \\$0.00   & \\$18124.69 & DWP    & http://per.lacity.org/perspecs/3181.pdf\\\\\n",
       "\\end{tabular}\n"
      ],
      "text/markdown": [
       "\n",
       "A data.frame: 6 × 35\n",
       "\n",
       "| <!--/--> | Row.ID &lt;int&gt; | Year &lt;int&gt; | Department.Title &lt;chr&gt; | Payroll.Department &lt;int&gt; | Record.Number &lt;dbl&gt; | Job.Class.Title &lt;chr&gt; | Employment.Type &lt;chr&gt; | Hourly.or.Event.Rate &lt;chr&gt; | Projected.Annual.Salary &lt;chr&gt; | Q1.Payments &lt;chr&gt; | ⋯ ⋯ | MOU.Title &lt;chr&gt; | FMS.Department &lt;int&gt; | Job.Class &lt;int&gt; | Pay.Grade &lt;chr&gt; | Average.Health.Cost &lt;chr&gt; | Average.Dental.Cost &lt;chr&gt; | Average.Basic.Life &lt;chr&gt; | Average.Benefit.Cost &lt;chr&gt; | Benefits.Plan &lt;chr&gt; | Job.Class.Link &lt;chr&gt; |\n",
       "|---|---|---|---|---|---|---|---|---|---|---|---|---|---|---|---|---|---|---|---|---|---|\n",
       "| 1 | 111391 | 2014 | Water And Power (DWP)     |   NA | 1412316577 | Commercial Service Representative | Full Time | <!----> | $70386.48 | $16129.89 | ⋯ | <!----> | 98 | 1230 | <!----> | $16842.08 | $1282.61 | $0.00   | $18124.69 | DWP    | http://per.lacity.org/perspecs/1230.pdf |\n",
       "| 2 |  31732 | 2013 | Police (LAPD)             | 4301 |  432728338 | Police Officer I                  | Full Time | $25.12 | $52450.56 | $11331.00 | ⋯ | POLICE OFFICERS UNIT | 70 | 2214 | A | $11651.40 | $898.08  | $191.04 | $12740.52 | Police | http://per.lacity.org/perspecs/2214.pdf |\n",
       "| 3 |  27697 | 2013 | Police (LAPD)             | 4301 |   97182506 | Police Officer II                 | Full Time | $42.77 | $89303.76 | $20036.32 | ⋯ | POLICE OFFICERS UNIT | 70 | 2214 | 2 | $11651.40 | $898.08  | $191.04 | $12740.52 | Police | http://per.lacity.org/perspecs/2214.pdf |\n",
       "| 4 |  14136 | 2013 | Harbor (Port of LA)       | 3201 |  950136941 | Senior Security Officer           | Full Time | $28.75 | $60028.96 | $15793.88 | ⋯ | SUPV BLUE COLLAR     | 42 | 3184 | 0 | $10710.24 | $405.24  | $11.40  | $11126.88 | City   | http://per.lacity.org/perspecs/3184.pdf |\n",
       "| 5 |  91896 | 2014 | Public Works - Sanitation | 7024 | 3230003445 | Senior Clerk Typist               | Full Time | $30.92 | $64553.13 | $14700.00 | ⋯ | CLERICAL UNIT        | 82 | 1368 | 0 | $11000.40 | $409.68  | $11.40  | $11421.48 | City   | http://per.lacity.org/perspecs/1368.pdf |\n",
       "| 6 | 106560 | 2014 | Water And Power (DWP)     |   NA |  681385707 | Security Officer                  | Full Time | <!----> | $65959.92 | $26530.26 | ⋯ | <!----> | 98 | 3181 | <!----> | $16842.08 | $1282.61 | $0.00   | $18124.69 | DWP    | http://per.lacity.org/perspecs/3181.pdf |\n",
       "\n"
      ],
      "text/plain": [
       "  Row.ID Year Department.Title          Payroll.Department Record.Number\n",
       "1 111391 2014 Water And Power (DWP)       NA               1412316577   \n",
       "2  31732 2013 Police (LAPD)             4301                432728338   \n",
       "3  27697 2013 Police (LAPD)             4301                 97182506   \n",
       "4  14136 2013 Harbor (Port of LA)       3201                950136941   \n",
       "5  91896 2014 Public Works - Sanitation 7024               3230003445   \n",
       "6 106560 2014 Water And Power (DWP)       NA                681385707   \n",
       "  Job.Class.Title                   Employment.Type Hourly.or.Event.Rate\n",
       "1 Commercial Service Representative Full Time                           \n",
       "2 Police Officer I                  Full Time       $25.12              \n",
       "3 Police Officer II                 Full Time       $42.77              \n",
       "4 Senior Security Officer           Full Time       $28.75              \n",
       "5 Senior Clerk Typist               Full Time       $30.92              \n",
       "6 Security Officer                  Full Time                           \n",
       "  Projected.Annual.Salary Q1.Payments ⋯ MOU.Title            FMS.Department\n",
       "1 $70386.48               $16129.89   ⋯                      98            \n",
       "2 $52450.56               $11331.00   ⋯ POLICE OFFICERS UNIT 70            \n",
       "3 $89303.76               $20036.32   ⋯ POLICE OFFICERS UNIT 70            \n",
       "4 $60028.96               $15793.88   ⋯ SUPV BLUE COLLAR     42            \n",
       "5 $64553.13               $14700.00   ⋯ CLERICAL UNIT        82            \n",
       "6 $65959.92               $26530.26   ⋯                      98            \n",
       "  Job.Class Pay.Grade Average.Health.Cost Average.Dental.Cost\n",
       "1 1230                $16842.08           $1282.61           \n",
       "2 2214      A         $11651.40           $898.08            \n",
       "3 2214      2         $11651.40           $898.08            \n",
       "4 3184      0         $10710.24           $405.24            \n",
       "5 1368      0         $11000.40           $409.68            \n",
       "6 3181                $16842.08           $1282.61           \n",
       "  Average.Basic.Life Average.Benefit.Cost Benefits.Plan\n",
       "1 $0.00              $18124.69            DWP          \n",
       "2 $191.04            $12740.52            Police       \n",
       "3 $191.04            $12740.52            Police       \n",
       "4 $11.40             $11126.88            City         \n",
       "5 $11.40             $11421.48            City         \n",
       "6 $0.00              $18124.69            DWP          \n",
       "  Job.Class.Link                         \n",
       "1 http://per.lacity.org/perspecs/1230.pdf\n",
       "2 http://per.lacity.org/perspecs/2214.pdf\n",
       "3 http://per.lacity.org/perspecs/2214.pdf\n",
       "4 http://per.lacity.org/perspecs/3184.pdf\n",
       "5 http://per.lacity.org/perspecs/1368.pdf\n",
       "6 http://per.lacity.org/perspecs/3181.pdf"
      ]
     },
     "metadata": {},
     "output_type": "display_data"
    }
   ],
   "source": [
    "# Loading the CSV file\n",
    "\n",
    "data = read.csv(\"data.csv\")\n",
    "head(data)"
   ]
  },
  {
   "cell_type": "code",
   "execution_count": 3,
   "metadata": {
    "vscode": {
     "languageId": "r"
    }
   },
   "outputs": [
    {
     "data": {
      "text/html": [
       "<style>\n",
       ".list-inline {list-style: none; margin:0; padding: 0}\n",
       ".list-inline>li {display: inline-block}\n",
       ".list-inline>li:not(:last-child)::after {content: \"\\00b7\"; padding: 0 .5ex}\n",
       "</style>\n",
       "<ol class=list-inline><li>'Row.ID'</li><li>'Year'</li><li>'Department.Title'</li><li>'Payroll.Department'</li><li>'Record.Number'</li><li>'Job.Class.Title'</li><li>'Employment.Type'</li><li>'Hourly.or.Event.Rate'</li><li>'Projected.Annual.Salary'</li><li>'Q1.Payments'</li><li>'Q2.Payments'</li><li>'Q3.Payments'</li><li>'Q4.Payments'</li><li>'Payments.Over.Base.Pay'</li><li>'X..Over.Base.Pay'</li><li>'Total.Payments'</li><li>'Base.Pay'</li><li>'Permanent.Bonus.Pay'</li><li>'Longevity.Bonus.Pay'</li><li>'Temporary.Bonus.Pay'</li><li>'Lump.Sum.Pay'</li><li>'Overtime.Pay'</li><li>'Other.Pay...Adjustments'</li><li>'Other.Pay..Payroll.Explorer.'</li><li>'MOU'</li><li>'MOU.Title'</li><li>'FMS.Department'</li><li>'Job.Class'</li><li>'Pay.Grade'</li><li>'Average.Health.Cost'</li><li>'Average.Dental.Cost'</li><li>'Average.Basic.Life'</li><li>'Average.Benefit.Cost'</li><li>'Benefits.Plan'</li><li>'Job.Class.Link'</li></ol>\n"
      ],
      "text/latex": [
       "\\begin{enumerate*}\n",
       "\\item 'Row.ID'\n",
       "\\item 'Year'\n",
       "\\item 'Department.Title'\n",
       "\\item 'Payroll.Department'\n",
       "\\item 'Record.Number'\n",
       "\\item 'Job.Class.Title'\n",
       "\\item 'Employment.Type'\n",
       "\\item 'Hourly.or.Event.Rate'\n",
       "\\item 'Projected.Annual.Salary'\n",
       "\\item 'Q1.Payments'\n",
       "\\item 'Q2.Payments'\n",
       "\\item 'Q3.Payments'\n",
       "\\item 'Q4.Payments'\n",
       "\\item 'Payments.Over.Base.Pay'\n",
       "\\item 'X..Over.Base.Pay'\n",
       "\\item 'Total.Payments'\n",
       "\\item 'Base.Pay'\n",
       "\\item 'Permanent.Bonus.Pay'\n",
       "\\item 'Longevity.Bonus.Pay'\n",
       "\\item 'Temporary.Bonus.Pay'\n",
       "\\item 'Lump.Sum.Pay'\n",
       "\\item 'Overtime.Pay'\n",
       "\\item 'Other.Pay...Adjustments'\n",
       "\\item 'Other.Pay..Payroll.Explorer.'\n",
       "\\item 'MOU'\n",
       "\\item 'MOU.Title'\n",
       "\\item 'FMS.Department'\n",
       "\\item 'Job.Class'\n",
       "\\item 'Pay.Grade'\n",
       "\\item 'Average.Health.Cost'\n",
       "\\item 'Average.Dental.Cost'\n",
       "\\item 'Average.Basic.Life'\n",
       "\\item 'Average.Benefit.Cost'\n",
       "\\item 'Benefits.Plan'\n",
       "\\item 'Job.Class.Link'\n",
       "\\end{enumerate*}\n"
      ],
      "text/markdown": [
       "1. 'Row.ID'\n",
       "2. 'Year'\n",
       "3. 'Department.Title'\n",
       "4. 'Payroll.Department'\n",
       "5. 'Record.Number'\n",
       "6. 'Job.Class.Title'\n",
       "7. 'Employment.Type'\n",
       "8. 'Hourly.or.Event.Rate'\n",
       "9. 'Projected.Annual.Salary'\n",
       "10. 'Q1.Payments'\n",
       "11. 'Q2.Payments'\n",
       "12. 'Q3.Payments'\n",
       "13. 'Q4.Payments'\n",
       "14. 'Payments.Over.Base.Pay'\n",
       "15. 'X..Over.Base.Pay'\n",
       "16. 'Total.Payments'\n",
       "17. 'Base.Pay'\n",
       "18. 'Permanent.Bonus.Pay'\n",
       "19. 'Longevity.Bonus.Pay'\n",
       "20. 'Temporary.Bonus.Pay'\n",
       "21. 'Lump.Sum.Pay'\n",
       "22. 'Overtime.Pay'\n",
       "23. 'Other.Pay...Adjustments'\n",
       "24. 'Other.Pay..Payroll.Explorer.'\n",
       "25. 'MOU'\n",
       "26. 'MOU.Title'\n",
       "27. 'FMS.Department'\n",
       "28. 'Job.Class'\n",
       "29. 'Pay.Grade'\n",
       "30. 'Average.Health.Cost'\n",
       "31. 'Average.Dental.Cost'\n",
       "32. 'Average.Basic.Life'\n",
       "33. 'Average.Benefit.Cost'\n",
       "34. 'Benefits.Plan'\n",
       "35. 'Job.Class.Link'\n",
       "\n",
       "\n"
      ],
      "text/plain": [
       " [1] \"Row.ID\"                       \"Year\"                        \n",
       " [3] \"Department.Title\"             \"Payroll.Department\"          \n",
       " [5] \"Record.Number\"                \"Job.Class.Title\"             \n",
       " [7] \"Employment.Type\"              \"Hourly.or.Event.Rate\"        \n",
       " [9] \"Projected.Annual.Salary\"      \"Q1.Payments\"                 \n",
       "[11] \"Q2.Payments\"                  \"Q3.Payments\"                 \n",
       "[13] \"Q4.Payments\"                  \"Payments.Over.Base.Pay\"      \n",
       "[15] \"X..Over.Base.Pay\"             \"Total.Payments\"              \n",
       "[17] \"Base.Pay\"                     \"Permanent.Bonus.Pay\"         \n",
       "[19] \"Longevity.Bonus.Pay\"          \"Temporary.Bonus.Pay\"         \n",
       "[21] \"Lump.Sum.Pay\"                 \"Overtime.Pay\"                \n",
       "[23] \"Other.Pay...Adjustments\"      \"Other.Pay..Payroll.Explorer.\"\n",
       "[25] \"MOU\"                          \"MOU.Title\"                   \n",
       "[27] \"FMS.Department\"               \"Job.Class\"                   \n",
       "[29] \"Pay.Grade\"                    \"Average.Health.Cost\"         \n",
       "[31] \"Average.Dental.Cost\"          \"Average.Basic.Life\"          \n",
       "[33] \"Average.Benefit.Cost\"         \"Benefits.Plan\"               \n",
       "[35] \"Job.Class.Link\"              "
      ]
     },
     "metadata": {},
     "output_type": "display_data"
    }
   ],
   "source": [
    "# Getting the names of all the attributes in the data\n",
    "\n",
    "names(data)"
   ]
  },
  {
   "cell_type": "markdown",
   "metadata": {},
   "source": [
    "#### Data Carpentry"
   ]
  },
  {
   "cell_type": "code",
   "execution_count": 4,
   "metadata": {
    "vscode": {
     "languageId": "r"
    }
   },
   "outputs": [
    {
     "data": {
      "text/html": [
       "<style>\n",
       ".list-inline {list-style: none; margin:0; padding: 0}\n",
       ".list-inline>li {display: inline-block}\n",
       ".list-inline>li:not(:last-child)::after {content: \"\\00b7\"; padding: 0 .5ex}\n",
       "</style>\n",
       "<ol class=list-inline><li>'Year'</li><li>'Department.Title'</li><li>'Job.Class.Title'</li><li>'Employment.Type'</li><li>'Hourly.or.Event.Rate'</li><li>'Projected.Annual.Salary'</li><li>'Q1.Payments'</li><li>'Q2.Payments'</li><li>'Q3.Payments'</li><li>'Q4.Payments'</li><li>'Payments.Over.Base.Pay'</li><li>'Total.Payments'</li><li>'Base.Pay'</li><li>'Permanent.Bonus.Pay'</li><li>'Longevity.Bonus.Pay'</li><li>'Temporary.Bonus.Pay'</li><li>'Overtime.Pay'</li><li>'Other.Pay..Payroll.Explorer.'</li><li>'Average.Health.Cost'</li><li>'Average.Dental.Cost'</li><li>'Average.Basic.Life'</li><li>'Average.Benefit.Cost'</li><li>'Benefits.Plan'</li></ol>\n"
      ],
      "text/latex": [
       "\\begin{enumerate*}\n",
       "\\item 'Year'\n",
       "\\item 'Department.Title'\n",
       "\\item 'Job.Class.Title'\n",
       "\\item 'Employment.Type'\n",
       "\\item 'Hourly.or.Event.Rate'\n",
       "\\item 'Projected.Annual.Salary'\n",
       "\\item 'Q1.Payments'\n",
       "\\item 'Q2.Payments'\n",
       "\\item 'Q3.Payments'\n",
       "\\item 'Q4.Payments'\n",
       "\\item 'Payments.Over.Base.Pay'\n",
       "\\item 'Total.Payments'\n",
       "\\item 'Base.Pay'\n",
       "\\item 'Permanent.Bonus.Pay'\n",
       "\\item 'Longevity.Bonus.Pay'\n",
       "\\item 'Temporary.Bonus.Pay'\n",
       "\\item 'Overtime.Pay'\n",
       "\\item 'Other.Pay..Payroll.Explorer.'\n",
       "\\item 'Average.Health.Cost'\n",
       "\\item 'Average.Dental.Cost'\n",
       "\\item 'Average.Basic.Life'\n",
       "\\item 'Average.Benefit.Cost'\n",
       "\\item 'Benefits.Plan'\n",
       "\\end{enumerate*}\n"
      ],
      "text/markdown": [
       "1. 'Year'\n",
       "2. 'Department.Title'\n",
       "3. 'Job.Class.Title'\n",
       "4. 'Employment.Type'\n",
       "5. 'Hourly.or.Event.Rate'\n",
       "6. 'Projected.Annual.Salary'\n",
       "7. 'Q1.Payments'\n",
       "8. 'Q2.Payments'\n",
       "9. 'Q3.Payments'\n",
       "10. 'Q4.Payments'\n",
       "11. 'Payments.Over.Base.Pay'\n",
       "12. 'Total.Payments'\n",
       "13. 'Base.Pay'\n",
       "14. 'Permanent.Bonus.Pay'\n",
       "15. 'Longevity.Bonus.Pay'\n",
       "16. 'Temporary.Bonus.Pay'\n",
       "17. 'Overtime.Pay'\n",
       "18. 'Other.Pay..Payroll.Explorer.'\n",
       "19. 'Average.Health.Cost'\n",
       "20. 'Average.Dental.Cost'\n",
       "21. 'Average.Basic.Life'\n",
       "22. 'Average.Benefit.Cost'\n",
       "23. 'Benefits.Plan'\n",
       "\n",
       "\n"
      ],
      "text/plain": [
       " [1] \"Year\"                         \"Department.Title\"            \n",
       " [3] \"Job.Class.Title\"              \"Employment.Type\"             \n",
       " [5] \"Hourly.or.Event.Rate\"         \"Projected.Annual.Salary\"     \n",
       " [7] \"Q1.Payments\"                  \"Q2.Payments\"                 \n",
       " [9] \"Q3.Payments\"                  \"Q4.Payments\"                 \n",
       "[11] \"Payments.Over.Base.Pay\"       \"Total.Payments\"              \n",
       "[13] \"Base.Pay\"                     \"Permanent.Bonus.Pay\"         \n",
       "[15] \"Longevity.Bonus.Pay\"          \"Temporary.Bonus.Pay\"         \n",
       "[17] \"Overtime.Pay\"                 \"Other.Pay..Payroll.Explorer.\"\n",
       "[19] \"Average.Health.Cost\"          \"Average.Dental.Cost\"         \n",
       "[21] \"Average.Basic.Life\"           \"Average.Benefit.Cost\"        \n",
       "[23] \"Benefits.Plan\"               "
      ]
     },
     "metadata": {},
     "output_type": "display_data"
    }
   ],
   "source": [
    "# Removing unwanted columns\n",
    "\n",
    "rem <- c('Row.ID','Payroll.Department','Record.Number','X..Over.Base.Pay','Other.Pay...Adjustments','Lump.Sum.Pay','MOU','MOU.Title','FMS.Department','Job.Class','Pay.Grade','Job.Class.Link')\n",
    "\n",
    "data <- data[!(names(data) %in% rem)]\n",
    "names(data)"
   ]
  },
  {
   "cell_type": "code",
   "execution_count": 5,
   "metadata": {
    "vscode": {
     "languageId": "r"
    }
   },
   "outputs": [],
   "source": [
    "# Changing blanks to NA (will be easier to handle missing values)\n",
    "\n",
    "for (col in names(data)) {\n",
    "  data[[col]][data[[col]] == \"\"] <- NA\n",
    "}"
   ]
  },
  {
   "cell_type": "code",
   "execution_count": 6,
   "metadata": {
    "vscode": {
     "languageId": "r"
    }
   },
   "outputs": [],
   "source": [
    "# Removing $ signs from the columns and changing data type to 'numeric' from 'chr' for specific attributes.\n",
    "\n",
    "exclude <- c('Department.Title','Job.Class.Title','Employment.Type','Benefits.Plan')\n",
    "\n",
    "for (col in names(data)) {\n",
    "    if (!(col %in% exclude)) {\n",
    "        data[[col]] <- as.numeric(gsub(\"[$]\", \"\", data[[col]]))\n",
    "        }\n",
    "}"
   ]
  },
  {
   "cell_type": "code",
   "execution_count": 7,
   "metadata": {
    "vscode": {
     "languageId": "r"
    }
   },
   "outputs": [],
   "source": [
    "# Converting Benefits.Plan to factor for later analysis.\n",
    "\n",
    "data$Benefits.Plan = as.factor(data$Benefits.Plan)"
   ]
  },
  {
   "cell_type": "code",
   "execution_count": 8,
   "metadata": {
    "vscode": {
     "languageId": "r"
    }
   },
   "outputs": [
    {
     "name": "stdout",
     "output_type": "stream",
     "text": [
      "'data.frame':\t285008 obs. of  23 variables:\n",
      " $ Year                        : num  2014 2013 2013 2013 2014 ...\n",
      " $ Department.Title            : chr  \"Water And Power (DWP)\" \"Police (LAPD)\" \"Police (LAPD)\" \"Harbor (Port of LA)\" ...\n",
      " $ Job.Class.Title             : chr  \"Commercial Service Representative\" \"Police Officer I\" \"Police Officer II\" \"Senior Security Officer\" ...\n",
      " $ Employment.Type             : chr  \"Full Time\" \"Full Time\" \"Full Time\" \"Full Time\" ...\n",
      " $ Hourly.or.Event.Rate        : num  NA 25.1 42.8 28.8 30.9 ...\n",
      " $ Projected.Annual.Salary     : num  70386 52451 89304 60029 64553 ...\n",
      " $ Q1.Payments                 : num  16130 11331 20036 15794 14700 ...\n",
      " $ Q2.Payments                 : num  17830 13860 23479 18560 17313 ...\n",
      " $ Q3.Payments                 : num  17678 11968 21154 16471 15257 ...\n",
      " $ Q4.Payments                 : num  22947 14048 24360 21111 17313 ...\n",
      " $ Payments.Over.Base.Pay      : num  14274 1700 4120 14275 5192 ...\n",
      " $ Total.Payments              : num  74584 51207 89030 71936 64583 ...\n",
      " $ Base.Pay                    : num  60311 49507 84909 57661 59392 ...\n",
      " $ Permanent.Bonus.Pay         : num  0 1270 1955 0 0 ...\n",
      " $ Longevity.Bonus.Pay         : num  0 0 0 1586 4774 ...\n",
      " $ Temporary.Bonus.Pay         : num  0 239 1519 935 0 ...\n",
      " $ Overtime.Pay                : num  369.1 11.1 482.3 11504.7 417.4 ...\n",
      " $ Other.Pay..Payroll.Explorer.: num  13905 1689 3638 2771 4774 ...\n",
      " $ Average.Health.Cost         : num  16842 11651 11651 10710 11000 ...\n",
      " $ Average.Dental.Cost         : num  1283 898 898 405 410 ...\n",
      " $ Average.Basic.Life          : num  0 191 191 11.4 11.4 ...\n",
      " $ Average.Benefit.Cost        : num  18125 12741 12741 11127 11421 ...\n",
      " $ Benefits.Plan               : Factor w/ 4 levels \"City\",\"DWP\",\"Fire\",..: 2 4 4 1 1 2 1 2 1 4 ...\n"
     ]
    }
   ],
   "source": [
    "str(data)"
   ]
  },
  {
   "cell_type": "code",
   "execution_count": 9,
   "metadata": {
    "vscode": {
     "languageId": "r"
    }
   },
   "outputs": [
    {
     "data": {
      "text/html": [
       "39082"
      ],
      "text/latex": [
       "39082"
      ],
      "text/markdown": [
       "39082"
      ],
      "text/plain": [
       "[1] 39082"
      ]
     },
     "metadata": {},
     "output_type": "display_data"
    }
   ],
   "source": [
    "# No of NA values in this attribute.\n",
    "\n",
    "sum(is.na(data$Benefits.Plan))"
   ]
  },
  {
   "cell_type": "markdown",
   "metadata": {},
   "source": [
    "Since my analysis is based on the Average Basic Life and Benefit plans, I will be filtering the data to only full time employment. There are no benefit plans for Part time and Per Event employees. So I will not include them in this study."
   ]
  },
  {
   "cell_type": "code",
   "execution_count": 10,
   "metadata": {
    "vscode": {
     "languageId": "r"
    }
   },
   "outputs": [
    {
     "data": {
      "text/html": [
       "<table class=\"dataframe\">\n",
       "<caption>A data.frame: 6 × 23</caption>\n",
       "<thead>\n",
       "\t<tr><th></th><th scope=col>Year</th><th scope=col>Department.Title</th><th scope=col>Job.Class.Title</th><th scope=col>Employment.Type</th><th scope=col>Hourly.or.Event.Rate</th><th scope=col>Projected.Annual.Salary</th><th scope=col>Q1.Payments</th><th scope=col>Q2.Payments</th><th scope=col>Q3.Payments</th><th scope=col>Q4.Payments</th><th scope=col>⋯</th><th scope=col>Permanent.Bonus.Pay</th><th scope=col>Longevity.Bonus.Pay</th><th scope=col>Temporary.Bonus.Pay</th><th scope=col>Overtime.Pay</th><th scope=col>Other.Pay..Payroll.Explorer.</th><th scope=col>Average.Health.Cost</th><th scope=col>Average.Dental.Cost</th><th scope=col>Average.Basic.Life</th><th scope=col>Average.Benefit.Cost</th><th scope=col>Benefits.Plan</th></tr>\n",
       "\t<tr><th></th><th scope=col>&lt;dbl&gt;</th><th scope=col>&lt;chr&gt;</th><th scope=col>&lt;chr&gt;</th><th scope=col>&lt;chr&gt;</th><th scope=col>&lt;dbl&gt;</th><th scope=col>&lt;dbl&gt;</th><th scope=col>&lt;dbl&gt;</th><th scope=col>&lt;dbl&gt;</th><th scope=col>&lt;dbl&gt;</th><th scope=col>&lt;dbl&gt;</th><th scope=col>⋯</th><th scope=col>&lt;dbl&gt;</th><th scope=col>&lt;dbl&gt;</th><th scope=col>&lt;dbl&gt;</th><th scope=col>&lt;dbl&gt;</th><th scope=col>&lt;dbl&gt;</th><th scope=col>&lt;dbl&gt;</th><th scope=col>&lt;dbl&gt;</th><th scope=col>&lt;dbl&gt;</th><th scope=col>&lt;dbl&gt;</th><th scope=col>&lt;fct&gt;</th></tr>\n",
       "</thead>\n",
       "<tbody>\n",
       "\t<tr><th scope=row>1</th><td>2014</td><td>Water And Power (DWP)    </td><td>Commercial Service Representative</td><td>Full Time</td><td>   NA</td><td>70386.48</td><td>16129.89</td><td>17829.78</td><td>17678.24</td><td>22946.57</td><td>⋯</td><td>   0.00</td><td>   0.00</td><td>   0.0</td><td>  369.12</td><td>13904.79</td><td>16842.08</td><td>1282.61</td><td>  0.00</td><td>18124.69</td><td>DWP   </td></tr>\n",
       "\t<tr><th scope=row>2</th><td>2013</td><td>Police (LAPD)            </td><td>Police Officer I                 </td><td>Full Time</td><td>25.12</td><td>52450.56</td><td>11331.00</td><td>13859.93</td><td>11968.32</td><td>14048.20</td><td>⋯</td><td>1269.83</td><td>   0.00</td><td> 239.2</td><td>   11.13</td><td> 1689.27</td><td>11651.40</td><td> 898.08</td><td>191.04</td><td>12740.52</td><td>Police</td></tr>\n",
       "\t<tr><th scope=row>3</th><td>2013</td><td>Police (LAPD)            </td><td>Police Officer II                </td><td>Full Time</td><td>42.77</td><td>89303.76</td><td>20036.32</td><td>23479.20</td><td>21153.60</td><td>24360.49</td><td>⋯</td><td>1954.51</td><td>   0.00</td><td>1519.0</td><td>  482.29</td><td> 3637.91</td><td>11651.40</td><td> 898.08</td><td>191.04</td><td>12740.52</td><td>Police</td></tr>\n",
       "\t<tr><th scope=row>4</th><td>2013</td><td>Harbor (Port of LA)      </td><td>Senior Security Officer          </td><td>Full Time</td><td>28.75</td><td>60028.96</td><td>15793.88</td><td>18560.38</td><td>16471.18</td><td>21110.80</td><td>⋯</td><td>   0.00</td><td>1585.72</td><td> 935.0</td><td>11504.72</td><td> 2770.72</td><td>10710.24</td><td> 405.24</td><td> 11.40</td><td>11126.88</td><td>City  </td></tr>\n",
       "\t<tr><th scope=row>5</th><td>2014</td><td>Public Works - Sanitation</td><td>Senior Clerk Typist              </td><td>Full Time</td><td>30.92</td><td>64553.13</td><td>14700.00</td><td>17313.10</td><td>15257.17</td><td>17313.10</td><td>⋯</td><td>   0.00</td><td>4774.25</td><td>   0.0</td><td>  417.37</td><td> 4774.25</td><td>11000.40</td><td> 409.68</td><td> 11.40</td><td>11421.48</td><td>City  </td></tr>\n",
       "\t<tr><th scope=row>6</th><td>2014</td><td>Water And Power (DWP)    </td><td>Security Officer                 </td><td>Full Time</td><td>   NA</td><td>65959.92</td><td>26530.26</td><td>32978.41</td><td>25697.50</td><td>39779.96</td><td>⋯</td><td>   0.00</td><td>   0.00</td><td>   0.0</td><td>37871.42</td><td>50069.63</td><td>16842.08</td><td>1282.61</td><td>  0.00</td><td>18124.69</td><td>DWP   </td></tr>\n",
       "</tbody>\n",
       "</table>\n"
      ],
      "text/latex": [
       "A data.frame: 6 × 23\n",
       "\\begin{tabular}{r|lllllllllllllllllllll}\n",
       "  & Year & Department.Title & Job.Class.Title & Employment.Type & Hourly.or.Event.Rate & Projected.Annual.Salary & Q1.Payments & Q2.Payments & Q3.Payments & Q4.Payments & ⋯ & Permanent.Bonus.Pay & Longevity.Bonus.Pay & Temporary.Bonus.Pay & Overtime.Pay & Other.Pay..Payroll.Explorer. & Average.Health.Cost & Average.Dental.Cost & Average.Basic.Life & Average.Benefit.Cost & Benefits.Plan\\\\\n",
       "  & <dbl> & <chr> & <chr> & <chr> & <dbl> & <dbl> & <dbl> & <dbl> & <dbl> & <dbl> & ⋯ & <dbl> & <dbl> & <dbl> & <dbl> & <dbl> & <dbl> & <dbl> & <dbl> & <dbl> & <fct>\\\\\n",
       "\\hline\n",
       "\t1 & 2014 & Water And Power (DWP)     & Commercial Service Representative & Full Time &    NA & 70386.48 & 16129.89 & 17829.78 & 17678.24 & 22946.57 & ⋯ &    0.00 &    0.00 &    0.0 &   369.12 & 13904.79 & 16842.08 & 1282.61 &   0.00 & 18124.69 & DWP   \\\\\n",
       "\t2 & 2013 & Police (LAPD)             & Police Officer I                  & Full Time & 25.12 & 52450.56 & 11331.00 & 13859.93 & 11968.32 & 14048.20 & ⋯ & 1269.83 &    0.00 &  239.2 &    11.13 &  1689.27 & 11651.40 &  898.08 & 191.04 & 12740.52 & Police\\\\\n",
       "\t3 & 2013 & Police (LAPD)             & Police Officer II                 & Full Time & 42.77 & 89303.76 & 20036.32 & 23479.20 & 21153.60 & 24360.49 & ⋯ & 1954.51 &    0.00 & 1519.0 &   482.29 &  3637.91 & 11651.40 &  898.08 & 191.04 & 12740.52 & Police\\\\\n",
       "\t4 & 2013 & Harbor (Port of LA)       & Senior Security Officer           & Full Time & 28.75 & 60028.96 & 15793.88 & 18560.38 & 16471.18 & 21110.80 & ⋯ &    0.00 & 1585.72 &  935.0 & 11504.72 &  2770.72 & 10710.24 &  405.24 &  11.40 & 11126.88 & City  \\\\\n",
       "\t5 & 2014 & Public Works - Sanitation & Senior Clerk Typist               & Full Time & 30.92 & 64553.13 & 14700.00 & 17313.10 & 15257.17 & 17313.10 & ⋯ &    0.00 & 4774.25 &    0.0 &   417.37 &  4774.25 & 11000.40 &  409.68 &  11.40 & 11421.48 & City  \\\\\n",
       "\t6 & 2014 & Water And Power (DWP)     & Security Officer                  & Full Time &    NA & 65959.92 & 26530.26 & 32978.41 & 25697.50 & 39779.96 & ⋯ &    0.00 &    0.00 &    0.0 & 37871.42 & 50069.63 & 16842.08 & 1282.61 &   0.00 & 18124.69 & DWP   \\\\\n",
       "\\end{tabular}\n"
      ],
      "text/markdown": [
       "\n",
       "A data.frame: 6 × 23\n",
       "\n",
       "| <!--/--> | Year &lt;dbl&gt; | Department.Title &lt;chr&gt; | Job.Class.Title &lt;chr&gt; | Employment.Type &lt;chr&gt; | Hourly.or.Event.Rate &lt;dbl&gt; | Projected.Annual.Salary &lt;dbl&gt; | Q1.Payments &lt;dbl&gt; | Q2.Payments &lt;dbl&gt; | Q3.Payments &lt;dbl&gt; | Q4.Payments &lt;dbl&gt; | ⋯ ⋯ | Permanent.Bonus.Pay &lt;dbl&gt; | Longevity.Bonus.Pay &lt;dbl&gt; | Temporary.Bonus.Pay &lt;dbl&gt; | Overtime.Pay &lt;dbl&gt; | Other.Pay..Payroll.Explorer. &lt;dbl&gt; | Average.Health.Cost &lt;dbl&gt; | Average.Dental.Cost &lt;dbl&gt; | Average.Basic.Life &lt;dbl&gt; | Average.Benefit.Cost &lt;dbl&gt; | Benefits.Plan &lt;fct&gt; |\n",
       "|---|---|---|---|---|---|---|---|---|---|---|---|---|---|---|---|---|---|---|---|---|---|\n",
       "| 1 | 2014 | Water And Power (DWP)     | Commercial Service Representative | Full Time |    NA | 70386.48 | 16129.89 | 17829.78 | 17678.24 | 22946.57 | ⋯ |    0.00 |    0.00 |    0.0 |   369.12 | 13904.79 | 16842.08 | 1282.61 |   0.00 | 18124.69 | DWP    |\n",
       "| 2 | 2013 | Police (LAPD)             | Police Officer I                  | Full Time | 25.12 | 52450.56 | 11331.00 | 13859.93 | 11968.32 | 14048.20 | ⋯ | 1269.83 |    0.00 |  239.2 |    11.13 |  1689.27 | 11651.40 |  898.08 | 191.04 | 12740.52 | Police |\n",
       "| 3 | 2013 | Police (LAPD)             | Police Officer II                 | Full Time | 42.77 | 89303.76 | 20036.32 | 23479.20 | 21153.60 | 24360.49 | ⋯ | 1954.51 |    0.00 | 1519.0 |   482.29 |  3637.91 | 11651.40 |  898.08 | 191.04 | 12740.52 | Police |\n",
       "| 4 | 2013 | Harbor (Port of LA)       | Senior Security Officer           | Full Time | 28.75 | 60028.96 | 15793.88 | 18560.38 | 16471.18 | 21110.80 | ⋯ |    0.00 | 1585.72 |  935.0 | 11504.72 |  2770.72 | 10710.24 |  405.24 |  11.40 | 11126.88 | City   |\n",
       "| 5 | 2014 | Public Works - Sanitation | Senior Clerk Typist               | Full Time | 30.92 | 64553.13 | 14700.00 | 17313.10 | 15257.17 | 17313.10 | ⋯ |    0.00 | 4774.25 |    0.0 |   417.37 |  4774.25 | 11000.40 |  409.68 |  11.40 | 11421.48 | City   |\n",
       "| 6 | 2014 | Water And Power (DWP)     | Security Officer                  | Full Time |    NA | 65959.92 | 26530.26 | 32978.41 | 25697.50 | 39779.96 | ⋯ |    0.00 |    0.00 |    0.0 | 37871.42 | 50069.63 | 16842.08 | 1282.61 |   0.00 | 18124.69 | DWP    |\n",
       "\n"
      ],
      "text/plain": [
       "  Year Department.Title          Job.Class.Title                  \n",
       "1 2014 Water And Power (DWP)     Commercial Service Representative\n",
       "2 2013 Police (LAPD)             Police Officer I                 \n",
       "3 2013 Police (LAPD)             Police Officer II                \n",
       "4 2013 Harbor (Port of LA)       Senior Security Officer          \n",
       "5 2014 Public Works - Sanitation Senior Clerk Typist              \n",
       "6 2014 Water And Power (DWP)     Security Officer                 \n",
       "  Employment.Type Hourly.or.Event.Rate Projected.Annual.Salary Q1.Payments\n",
       "1 Full Time          NA                70386.48                16129.89   \n",
       "2 Full Time       25.12                52450.56                11331.00   \n",
       "3 Full Time       42.77                89303.76                20036.32   \n",
       "4 Full Time       28.75                60028.96                15793.88   \n",
       "5 Full Time       30.92                64553.13                14700.00   \n",
       "6 Full Time          NA                65959.92                26530.26   \n",
       "  Q2.Payments Q3.Payments Q4.Payments ⋯ Permanent.Bonus.Pay Longevity.Bonus.Pay\n",
       "1 17829.78    17678.24    22946.57    ⋯    0.00                0.00            \n",
       "2 13859.93    11968.32    14048.20    ⋯ 1269.83                0.00            \n",
       "3 23479.20    21153.60    24360.49    ⋯ 1954.51                0.00            \n",
       "4 18560.38    16471.18    21110.80    ⋯    0.00             1585.72            \n",
       "5 17313.10    15257.17    17313.10    ⋯    0.00             4774.25            \n",
       "6 32978.41    25697.50    39779.96    ⋯    0.00                0.00            \n",
       "  Temporary.Bonus.Pay Overtime.Pay Other.Pay..Payroll.Explorer.\n",
       "1    0.0                369.12     13904.79                    \n",
       "2  239.2                 11.13      1689.27                    \n",
       "3 1519.0                482.29      3637.91                    \n",
       "4  935.0              11504.72      2770.72                    \n",
       "5    0.0                417.37      4774.25                    \n",
       "6    0.0              37871.42     50069.63                    \n",
       "  Average.Health.Cost Average.Dental.Cost Average.Basic.Life\n",
       "1 16842.08            1282.61               0.00            \n",
       "2 11651.40             898.08             191.04            \n",
       "3 11651.40             898.08             191.04            \n",
       "4 10710.24             405.24              11.40            \n",
       "5 11000.40             409.68              11.40            \n",
       "6 16842.08            1282.61               0.00            \n",
       "  Average.Benefit.Cost Benefits.Plan\n",
       "1 18124.69             DWP          \n",
       "2 12740.52             Police       \n",
       "3 12740.52             Police       \n",
       "4 11126.88             City         \n",
       "5 11421.48             City         \n",
       "6 18124.69             DWP          "
      ]
     },
     "metadata": {},
     "output_type": "display_data"
    }
   ],
   "source": [
    "data = subset(data, data$Employment.Type == 'Full Time')\n",
    "head(data)"
   ]
  },
  {
   "cell_type": "code",
   "execution_count": 11,
   "metadata": {
    "vscode": {
     "languageId": "r"
    }
   },
   "outputs": [
    {
     "data": {
      "text/html": [
       "236553"
      ],
      "text/latex": [
       "236553"
      ],
      "text/markdown": [
       "236553"
      ],
      "text/plain": [
       "[1] 236553"
      ]
     },
     "metadata": {},
     "output_type": "display_data"
    }
   ],
   "source": [
    "# Row count of dataset\n",
    "nrow(data)"
   ]
  },
  {
   "cell_type": "code",
   "execution_count": 12,
   "metadata": {
    "vscode": {
     "languageId": "r"
    }
   },
   "outputs": [
    {
     "data": {
      "text/html": [
       "'Hourly.or.Event.Rate'"
      ],
      "text/latex": [
       "'Hourly.or.Event.Rate'"
      ],
      "text/markdown": [
       "'Hourly.or.Event.Rate'"
      ],
      "text/plain": [
       "[1] \"Hourly.or.Event.Rate\""
      ]
     },
     "metadata": {},
     "output_type": "display_data"
    }
   ],
   "source": [
    "# Columns with missing values\n",
    "names(which(colSums(is.na(data)) > 0))"
   ]
  },
  {
   "cell_type": "markdown",
   "metadata": {},
   "source": [
    "#### Exploring Categorical Variables"
   ]
  },
  {
   "cell_type": "code",
   "execution_count": 13,
   "metadata": {
    "vscode": {
     "languageId": "r"
    }
   },
   "outputs": [
    {
     "data": {
      "text/plain": [
       "\n",
       "  City    DWP   Fire Police \n",
       "116000  52923  16561  51069 "
      ]
     },
     "metadata": {},
     "output_type": "display_data"
    }
   ],
   "source": [
    "# Distribution of counts of Benefits plans.\n",
    "\n",
    "table(data$Benefits.Plan)"
   ]
  },
  {
   "cell_type": "markdown",
   "metadata": {},
   "source": [
    "While exploring the data, I had noticed that not all LAPD (police) employees get 'Police' Benefit plans. "
   ]
  },
  {
   "cell_type": "code",
   "execution_count": 14,
   "metadata": {
    "vscode": {
     "languageId": "r"
    }
   },
   "outputs": [],
   "source": [
    "# Filtering out only Police Department data\n",
    "\n",
    "bolice = subset(data, Department.Title == 'Police (LAPD)')\n",
    "bolice$Benefits.Plan = as.factor(bolice$Benefits.Plan)\n"
   ]
  },
  {
   "cell_type": "code",
   "execution_count": 15,
   "metadata": {
    "vscode": {
     "languageId": "r"
    }
   },
   "outputs": [
    {
     "data": {
      "image/png": "[encoded data removed]",
      "text/plain": [
       "plot without title"
      ]
     },
     "metadata": {
      "image/png": {
       "height": 420,
       "width": 420
      }
     },
     "output_type": "display_data"
    }
   ],
   "source": [
    "# Benefit plans for Police Employees.\n",
    "\n",
    "ggplot(bolice, aes(x=Benefits.Plan)) + geom_bar(fill = \"#f59b7a\") +\n",
    "labs(title = \"Benefit plans for Police Employees\",\n",
    "       x = \"Benefits Plan\",\n",
    "       y = \"Count\") + theme_minimal()"
   ]
  },
  {
   "cell_type": "markdown",
   "metadata": {
    "scrolled": true
   },
   "source": [
    "#### K means Clustering"
   ]
  },
  {
   "cell_type": "markdown",
   "metadata": {},
   "source": [
    "I will be performing K means clustering with attributes like Base Pay and Benefits cost. Let's see if there are any clusters that will be formed or not."
   ]
  },
  {
   "cell_type": "code",
   "execution_count": 16,
   "metadata": {
    "vscode": {
     "languageId": "r"
    }
   },
   "outputs": [
    {
     "data": {
      "text/html": [
       "<table class=\"dataframe\">\n",
       "<caption>A data.frame: 6 × 2</caption>\n",
       "<thead>\n",
       "\t<tr><th></th><th scope=col>Base.Pay</th><th scope=col>Average.Benefit.Cost</th></tr>\n",
       "\t<tr><th></th><th scope=col>&lt;dbl&gt;</th><th scope=col>&lt;dbl&gt;</th></tr>\n",
       "</thead>\n",
       "<tbody>\n",
       "\t<tr><th scope=row>1</th><td>60310.57</td><td>18124.69</td></tr>\n",
       "\t<tr><th scope=row>2</th><td>49507.05</td><td>12740.52</td></tr>\n",
       "\t<tr><th scope=row>3</th><td>84909.41</td><td>12740.52</td></tr>\n",
       "\t<tr><th scope=row>4</th><td>57660.80</td><td>11126.88</td></tr>\n",
       "\t<tr><th scope=row>5</th><td>59391.75</td><td>11421.48</td></tr>\n",
       "\t<tr><th scope=row>6</th><td>37045.08</td><td>18124.69</td></tr>\n",
       "</tbody>\n",
       "</table>\n"
      ],
      "text/latex": [
       "A data.frame: 6 × 2\n",
       "\\begin{tabular}{r|ll}\n",
       "  & Base.Pay & Average.Benefit.Cost\\\\\n",
       "  & <dbl> & <dbl>\\\\\n",
       "\\hline\n",
       "\t1 & 60310.57 & 18124.69\\\\\n",
       "\t2 & 49507.05 & 12740.52\\\\\n",
       "\t3 & 84909.41 & 12740.52\\\\\n",
       "\t4 & 57660.80 & 11126.88\\\\\n",
       "\t5 & 59391.75 & 11421.48\\\\\n",
       "\t6 & 37045.08 & 18124.69\\\\\n",
       "\\end{tabular}\n"
      ],
      "text/markdown": [
       "\n",
       "A data.frame: 6 × 2\n",
       "\n",
       "| <!--/--> | Base.Pay &lt;dbl&gt; | Average.Benefit.Cost &lt;dbl&gt; |\n",
       "|---|---|---|\n",
       "| 1 | 60310.57 | 18124.69 |\n",
       "| 2 | 49507.05 | 12740.52 |\n",
       "| 3 | 84909.41 | 12740.52 |\n",
       "| 4 | 57660.80 | 11126.88 |\n",
       "| 5 | 59391.75 | 11421.48 |\n",
       "| 6 | 37045.08 | 18124.69 |\n",
       "\n"
      ],
      "text/plain": [
       "  Base.Pay Average.Benefit.Cost\n",
       "1 60310.57 18124.69            \n",
       "2 49507.05 12740.52            \n",
       "3 84909.41 12740.52            \n",
       "4 57660.80 11126.88            \n",
       "5 59391.75 11421.48            \n",
       "6 37045.08 18124.69            "
      ]
     },
     "metadata": {},
     "output_type": "display_data"
    }
   ],
   "source": [
    "# Subsetting data for K means\n",
    "kdata = subset(data, select = c(13,22))\n",
    "head(kdata)"
   ]
  },
  {
   "cell_type": "code",
   "execution_count": 17,
   "metadata": {
    "vscode": {
     "languageId": "r"
    }
   },
   "outputs": [],
   "source": [
    "# Standardizing the variables\n",
    "kdata = as.data.frame(scale(kdata))"
   ]
  },
  {
   "cell_type": "code",
   "execution_count": 18,
   "metadata": {
    "vscode": {
     "languageId": "r"
    }
   },
   "outputs": [
    {
     "data": {
      "image/png": "[encoded data removed]",
      "text/plain": [
       "plot without title"
      ]
     },
     "metadata": {
      "image/png": {
       "height": 420,
       "width": 420
      }
     },
     "output_type": "display_data"
    }
   ],
   "source": [
    "ggplot(kdata, aes(Base.Pay, Average.Benefit.Cost)) + \n",
    "    geom_point(color=\"black\") + coord_equal() + theme_light()\n"
   ]
  },
  {
   "cell_type": "markdown",
   "metadata": {},
   "source": [
    "Since I know that there are 4 Benefit Plans, I will be using 4 clusters in the following code."
   ]
  },
  {
   "cell_type": "code",
   "execution_count": null,
   "metadata": {
    "vscode": {
     "languageId": "r"
    }
   },
   "outputs": [],
   "source": [
    "\n",
    "set.seed(42)\n",
    "kmeans_clust <- kmeans(kdata, 4, nstart = 20)\n",
    "kmeans_clust"
   ]
  },
  {
   "cell_type": "code",
   "execution_count": 20,
   "metadata": {
    "vscode": {
     "languageId": "r"
    }
   },
   "outputs": [
    {
     "data": {
      "text/plain": [
       "   \n",
       "     City   DWP  Fire Police\n",
       "  1     0 28941     0      0\n",
       "  2 40122     0  9382  27721\n",
       "  3 75878     0  7179  23348\n",
       "  4     0 23982     0      0"
      ]
     },
     "metadata": {},
     "output_type": "display_data"
    }
   ],
   "source": [
    "table(kmeans_clust$cluster, data$Benefits.Plan)"
   ]
  },
  {
   "cell_type": "code",
   "execution_count": 21,
   "metadata": {
    "vscode": {
     "languageId": "r"
    }
   },
   "outputs": [
    {
     "data": {
      "image/png": "[encoded data removed]",
      "text/plain": [
       "plot without title"
      ]
     },
     "metadata": {
      "image/png": {
       "height": 420,
       "width": 420
      }
     },
     "output_type": "display_data"
    }
   ],
   "source": [
    "ggplot(kdata, aes(Base.Pay, Average.Benefit.Cost))  + geom_point(aes(color = factor(kmeans_clust$cluster))) + \n",
    "           coord_equal() + theme_light() + theme(legend.position=\"top\")"
   ]
  },
  {
   "cell_type": "markdown",
   "metadata": {},
   "source": [
    "Looking at the results above, I can notice some difference between the groups. It is also interesting to note that it was able to catch the fact that not all LAPD (police) employees get 'Police' Benefit plans. Some even get 'city' plans. Similar thing with the Fire Department employees."
   ]
  },
  {
   "cell_type": "markdown",
   "metadata": {},
   "source": [
    "#### Hypothesis testing - One-way ANOVA\n",
    "##### Do employment benefits vary significantly between Benefit Plans?"
   ]
  },
  {
   "cell_type": "code",
   "execution_count": 22,
   "metadata": {
    "vscode": {
     "languageId": "r"
    }
   },
   "outputs": [
    {
     "data": {
      "text/html": [
       "<table class=\"dataframe\">\n",
       "<caption>A tibble: 4 × 5</caption>\n",
       "<thead>\n",
       "\t<tr><th scope=col>Benefits.Plan</th><th scope=col>Average_Health_Cost</th><th scope=col>Average_Dental_Cost</th><th scope=col>Average_Basic_Life</th><th scope=col>Average_Benefit_Cost</th></tr>\n",
       "\t<tr><th scope=col>&lt;fct&gt;</th><th scope=col>&lt;dbl&gt;</th><th scope=col>&lt;dbl&gt;</th><th scope=col>&lt;dbl&gt;</th><th scope=col>&lt;dbl&gt;</th></tr>\n",
       "</thead>\n",
       "<tbody>\n",
       "\t<tr><td>City  </td><td>11040.88</td><td> 409.9921</td><td> 11.4100</td><td>11462.28</td></tr>\n",
       "\t<tr><td>DWP   </td><td>17179.10</td><td>1263.8181</td><td>  0.0000</td><td>18442.92</td></tr>\n",
       "\t<tr><td>Fire  </td><td>12942.13</td><td> 900.6339</td><td>175.1172</td><td>14017.88</td></tr>\n",
       "\t<tr><td>Police</td><td>12237.95</td><td> 889.9878</td><td>191.2180</td><td>13319.16</td></tr>\n",
       "</tbody>\n",
       "</table>\n"
      ],
      "text/latex": [
       "A tibble: 4 × 5\n",
       "\\begin{tabular}{lllll}\n",
       " Benefits.Plan & Average\\_Health\\_Cost & Average\\_Dental\\_Cost & Average\\_Basic\\_Life & Average\\_Benefit\\_Cost\\\\\n",
       " <fct> & <dbl> & <dbl> & <dbl> & <dbl>\\\\\n",
       "\\hline\n",
       "\t City   & 11040.88 &  409.9921 &  11.4100 & 11462.28\\\\\n",
       "\t DWP    & 17179.10 & 1263.8181 &   0.0000 & 18442.92\\\\\n",
       "\t Fire   & 12942.13 &  900.6339 & 175.1172 & 14017.88\\\\\n",
       "\t Police & 12237.95 &  889.9878 & 191.2180 & 13319.16\\\\\n",
       "\\end{tabular}\n"
      ],
      "text/markdown": [
       "\n",
       "A tibble: 4 × 5\n",
       "\n",
       "| Benefits.Plan &lt;fct&gt; | Average_Health_Cost &lt;dbl&gt; | Average_Dental_Cost &lt;dbl&gt; | Average_Basic_Life &lt;dbl&gt; | Average_Benefit_Cost &lt;dbl&gt; |\n",
       "|---|---|---|---|---|\n",
       "| City   | 11040.88 |  409.9921 |  11.4100 | 11462.28 |\n",
       "| DWP    | 17179.10 | 1263.8181 |   0.0000 | 18442.92 |\n",
       "| Fire   | 12942.13 |  900.6339 | 175.1172 | 14017.88 |\n",
       "| Police | 12237.95 |  889.9878 | 191.2180 | 13319.16 |\n",
       "\n"
      ],
      "text/plain": [
       "  Benefits.Plan Average_Health_Cost Average_Dental_Cost Average_Basic_Life\n",
       "1 City          11040.88             409.9921            11.4100          \n",
       "2 DWP           17179.10            1263.8181             0.0000          \n",
       "3 Fire          12942.13             900.6339           175.1172          \n",
       "4 Police        12237.95             889.9878           191.2180          \n",
       "  Average_Benefit_Cost\n",
       "1 11462.28            \n",
       "2 18442.92            \n",
       "3 14017.88            \n",
       "4 13319.16            "
      ]
     },
     "metadata": {},
     "output_type": "display_data"
    }
   ],
   "source": [
    "# Average Benefit costs breakdown for each Benefit plan\n",
    "\n",
    "mean_table <- data %>%\n",
    "  group_by(Benefits.Plan) %>%\n",
    "  summarize(\n",
    "    Average_Health_Cost = mean(Average.Health.Cost),\n",
    "    Average_Dental_Cost = mean(Average.Dental.Cost),\n",
    "    Average_Basic_Life = mean(Average.Basic.Life),\n",
    "    Average_Benefit_Cost = mean(Average.Benefit.Cost)\n",
    "  )\n",
    "mean_table"
   ]
  },
  {
   "cell_type": "markdown",
   "metadata": {},
   "source": [
    "Average Benefit Cost is the sum of Average_Health_Cost, Average_Dental_Cost & Average_Basic_Life."
   ]
  },
  {
   "cell_type": "code",
   "execution_count": 23,
   "metadata": {
    "vscode": {
     "languageId": "r"
    }
   },
   "outputs": [
    {
     "data": {
      "image/png": "[encoded data removed]",
      "text/plain": [
       "plot without title"
      ]
     },
     "metadata": {
      "image/png": {
       "height": 420,
       "width": 420
      }
     },
     "output_type": "display_data"
    }
   ],
   "source": [
    "# Bar plot of Average Benefit Cost per Benefit plan\n",
    "\n",
    "ggplot(mean_table, aes(x = Benefits.Plan)) +\n",
    "  geom_bar(aes(y = Average_Benefit_Cost), stat = \"identity\",fill = \"#f59b7a\") +\n",
    "  labs(title = \"Mean Benefit Cost by Benefits Plan\",\n",
    "       x = \"Benefits Plan\",\n",
    "       y = \"Mean Value\") + theme_minimal()"
   ]
  },
  {
   "cell_type": "code",
   "execution_count": 24,
   "metadata": {
    "vscode": {
     "languageId": "r"
    }
   },
   "outputs": [
    {
     "data": {
      "image/png": "[encoded data removed]",
      "text/plain": [
       "plot without title"
      ]
     },
     "metadata": {
      "image/png": {
       "height": 420,
       "width": 420
      }
     },
     "output_type": "display_data"
    }
   ],
   "source": [
    "# Bar plot of Basic Life Cost per Benefit plan\n",
    "\n",
    "ggplot(mean_table, aes(x = Average_Basic_Life, y = Benefits.Plan, fill = Benefits.Plan)) +\n",
    "  geom_bar(stat = \"identity\", fill = '#f59b7a',color = \"Black\",show.legend = FALSE) +\n",
    "  geom_text(aes(label = round(Average_Basic_Life, 2)), hjust = -0.1, vjust = 0.5, color = \"black\", size = 8) +\n",
    "  labs(title = \"Average Basic Life Cost by Benefits Plan\",\n",
    "       x = \"Average Basic Life Cost\",\n",
    "       y = \"Benefits Plan\") +\n",
    "  theme_minimal() + xlim(0, 250)"
   ]
  },
  {
   "cell_type": "code",
   "execution_count": 25,
   "metadata": {
    "vscode": {
     "languageId": "r"
    }
   },
   "outputs": [
    {
     "data": {
      "image/png": "[encoded data removed]",
      "text/plain": [
       "plot without title"
      ]
     },
     "metadata": {
      "image/png": {
       "height": 420,
       "width": 420
      }
     },
     "output_type": "display_data"
    }
   ],
   "source": [
    "# Distribution of total Benefit Costs\n",
    "\n",
    "ggplot(data,aes(x = Average.Benefit.Cost, color = 'density')) +  \n",
    "  geom_histogram(aes(y = ..density..), bins = 10,  fill = '#f59b7a', alpha = 0.5) +  \n",
    "  geom_density(bw = 500, color = '#f59b7a') +   \n",
    "  ylab(\"Count\") + \n",
    "  xlab(\"Benefit Cost\")  + theme(legend.title=element_blank()) + theme_minimal()+\n",
    "  scale_color_manual(values = c('density' = '#f59b7a'))"
   ]
  },
  {
   "cell_type": "markdown",
   "metadata": {},
   "source": [
    "The distribution doesn't exactly look like its normally distributed.\n",
    "\n",
    "Since this dataset has around 200,000 rows, I was thinking if I could assume normality?.\n",
    "I feel I can rely on the central limit theorem, which states that the distribution of the sample mean approaches a normal distribution as the sample size increases, regardless of the shape of the original distribution.\n",
    "\n",
    "Below I am trying to use the concept of Central Limit Theorem. "
   ]
  },
  {
   "cell_type": "code",
   "execution_count": 26,
   "metadata": {
    "vscode": {
     "languageId": "r"
    }
   },
   "outputs": [],
   "source": [
    "# Drawing 500 samples each with 50 observations.\n",
    "\n",
    "sample_size <- 50\n",
    "num_samples <- 500\n",
    " \n",
    "samples <- replicate(num_samples, sample(data$Average.Benefit.Cost, size = sample_size,replace = TRUE))"
   ]
  },
  {
   "cell_type": "code",
   "execution_count": 27,
   "metadata": {
    "vscode": {
     "languageId": "r"
    }
   },
   "outputs": [
    {
     "name": "stdout",
     "output_type": "stream",
     "text": [
      "[1] \"Sample Mean and Variance\"\n",
      "[1] 13599.18\n",
      "[1] 164060.4\n"
     ]
    }
   ],
   "source": [
    "# Calculation Sample Mean and Variance\n",
    "\n",
    "sample_means <- colMeans(samples)\n",
    "x_bar <- mean(sample_means)\n",
    "std <- sd(sample_means)\n",
    " \n",
    "print('Sample Mean and Variance')\n",
    "print(x_bar)\n",
    "print(std**2)"
   ]
  },
  {
   "cell_type": "code",
   "execution_count": 28,
   "metadata": {
    "vscode": {
     "languageId": "r"
    }
   },
   "outputs": [
    {
     "data": {
      "image/png": "[encoded data removed]",
      "text/plain": [
       "Plot with title “Distribution of Sample Means”"
      ]
     },
     "metadata": {
      "image/png": {
       "height": 420,
       "width": 420
      }
     },
     "output_type": "display_data"
    }
   ],
   "source": [
    "# Visualizing the sample means\n",
    "\n",
    "hist(sample_means, breaks = 15, prob = TRUE, main = \"Distribution of Sample Means\", xlab = \"Sample Mean\")\n",
    " \n",
    "# Distribution Curve\n",
    "curve(dnorm(x, mean = x_bar, sd = std), col = \"Black\", lwd = 2, add = TRUE)"
   ]
  },
  {
   "cell_type": "markdown",
   "metadata": {},
   "source": [
    "As you can see, the sample means distribution follows a normal curve. Thus we can say that Central limit theorem is satisfied and we can assume normality."
   ]
  },
  {
   "cell_type": "markdown",
   "metadata": {},
   "source": [
    "**H0:** No significant difference in the mean \"Average.Benefit.Cost\" among the different levels of the \"Benefits.Plan\" variable.\n",
    "\n",
    "**H1:** There is a significant difference in the mean \"Average.Benefit.Cost\" among at least one pair of \"Benefits.Plan\" levels."
   ]
  },
  {
   "cell_type": "code",
   "execution_count": 29,
   "metadata": {
    "vscode": {
     "languageId": "r"
    }
   },
   "outputs": [
    {
     "data": {
      "text/plain": [
       "                  Df    Sum Sq   Mean Sq F value Pr(>F)    \n",
       "Benefits.Plan      3 1.778e+12 5.928e+11 2158868 <2e-16 ***\n",
       "Residuals     236549 6.495e+10 2.746e+05                   \n",
       "---\n",
       "Signif. codes:  0 ‘***’ 0.001 ‘**’ 0.01 ‘*’ 0.05 ‘.’ 0.1 ‘ ’ 1"
      ]
     },
     "metadata": {},
     "output_type": "display_data"
    }
   ],
   "source": [
    "# One way Anova Test\n",
    "aov1 <- aov(Average.Benefit.Cost ~ Benefits.Plan, data = data)\n",
    "summary(aov1)"
   ]
  },
  {
   "cell_type": "code",
   "execution_count": 30,
   "metadata": {
    "vscode": {
     "languageId": "r"
    }
   },
   "outputs": [
    {
     "data": {
      "text/plain": [
       "  Tukey multiple comparisons of means\n",
       "    95% family-wise confidence level\n",
       "\n",
       "Fit: aov(formula = Average.Benefit.Cost ~ Benefits.Plan, data = data)\n",
       "\n",
       "$Benefits.Plan\n",
       "                 diff        lwr        upr p adj\n",
       "DWP-City     6980.641  6973.5801  6987.7028     0\n",
       "Fire-City    2555.597  2544.4150  2566.7796     0\n",
       "Police-City  1856.879  1849.7304  1864.0281     0\n",
       "Fire-DWP    -4425.044 -4437.0300 -4413.0582     0\n",
       "Police-DWP  -5123.762 -5132.1123 -5115.4120     0\n",
       "Police-Fire  -698.718  -710.7557  -686.6803     0\n"
      ]
     },
     "metadata": {},
     "output_type": "display_data"
    }
   ],
   "source": [
    "# Tukey significance test\n",
    "TukeyHSD(aov1)"
   ]
  },
  {
   "cell_type": "markdown",
   "metadata": {},
   "source": [
    " From the above results we see that the p value is 0 (or very close to zero) and therefore can safely reject null hypothesis.\n",
    " This indicates that the differences in means between each Benefit plan are statistically significant."
   ]
  },
  {
   "cell_type": "markdown",
   "metadata": {},
   "source": [
    "#### Hypothesis testing - T test (two sample test)\n",
    "##### Is there a significant difference in the total employee benefits cost between the two most employed departments?"
   ]
  },
  {
   "cell_type": "code",
   "execution_count": 31,
   "metadata": {
    "scrolled": true,
    "vscode": {
     "languageId": "r"
    }
   },
   "outputs": [
    {
     "data": {
      "text/html": [
       "<table class=\"dataframe\">\n",
       "<caption>A tibble: 58 × 2</caption>\n",
       "<thead>\n",
       "\t<tr><th scope=col>Department.Title</th><th scope=col>count</th></tr>\n",
       "\t<tr><th scope=col>&lt;chr&gt;</th><th scope=col>&lt;int&gt;</th></tr>\n",
       "</thead>\n",
       "<tbody>\n",
       "\t<tr><td>Police (LAPD)                                               </td><td>65429</td></tr>\n",
       "\t<tr><td>Water And Power (DWP)                                       </td><td>52923</td></tr>\n",
       "\t<tr><td>Fire (LAFD)                                                 </td><td>18107</td></tr>\n",
       "\t<tr><td>Airports (LAWA)                                             </td><td>16944</td></tr>\n",
       "\t<tr><td>Public Works - Sanitation                                   </td><td>12710</td></tr>\n",
       "\t<tr><td>General Services                                            </td><td> 7029</td></tr>\n",
       "\t<tr><td>Recreation And Parks                                        </td><td> 7009</td></tr>\n",
       "\t<tr><td>Transportation (LADOT)                                      </td><td> 6734</td></tr>\n",
       "\t<tr><td>Harbor (Port of LA)                                         </td><td> 4741</td></tr>\n",
       "\t<tr><td>Public Works - Street Services                              </td><td> 4497</td></tr>\n",
       "\t<tr><td>City Attorney                                               </td><td> 4493</td></tr>\n",
       "\t<tr><td>Building and Safety                                         </td><td> 4158</td></tr>\n",
       "\t<tr><td>Public Works - Engineering                                  </td><td> 3819</td></tr>\n",
       "\t<tr><td>Library                                                     </td><td> 3716</td></tr>\n",
       "\t<tr><td>Housing And Community Investment Department                 </td><td> 3049</td></tr>\n",
       "\t<tr><td>Personnel                                                   </td><td> 2481</td></tr>\n",
       "\t<tr><td>Information Technology Agency                               </td><td> 2336</td></tr>\n",
       "\t<tr><td>Office of Finance                                           </td><td> 1659</td></tr>\n",
       "\t<tr><td>Animal Services                                             </td><td> 1604</td></tr>\n",
       "\t<tr><td>Public Works - Contract Administration                      </td><td> 1451</td></tr>\n",
       "\t<tr><td>City Planning                                               </td><td> 1113</td></tr>\n",
       "\t<tr><td>Public Works - Street Lighting                              </td><td> 1086</td></tr>\n",
       "\t<tr><td>Zoo                                                         </td><td> 1046</td></tr>\n",
       "\t<tr><td>Mayor                                                       </td><td>  947</td></tr>\n",
       "\t<tr><td>Economic And Workforce Development Department (EWDD)        </td><td>  768</td></tr>\n",
       "\t<tr><td>Controller                                                  </td><td>  740</td></tr>\n",
       "\t<tr><td>City Employees Retirement System (LACERS)                   </td><td>  669</td></tr>\n",
       "\t<tr><td>Pension (LAFPP)                                             </td><td>  572</td></tr>\n",
       "\t<tr><td>City Administrative Officer (CAO)                           </td><td>  565</td></tr>\n",
       "\t<tr><td>City Clerk                                                  </td><td>  476</td></tr>\n",
       "\t<tr><td>Public Works - Board of Public Works                        </td><td>  456</td></tr>\n",
       "\t<tr><td>City Planning And Development (DCP)                         </td><td>  284</td></tr>\n",
       "\t<tr><td>Office of the Chief Legislative Analyst (CLA)               </td><td>  232</td></tr>\n",
       "\t<tr><td>Cultural Affairs                                            </td><td>  203</td></tr>\n",
       "\t<tr><td>Aging                                                       </td><td>  187</td></tr>\n",
       "\t<tr><td>Council District 14 (CD 14)                                 </td><td>  138</td></tr>\n",
       "\t<tr><td>Neighborhood Empowerment (DONE)                             </td><td>  126</td></tr>\n",
       "\t<tr><td>Emergency Management                                        </td><td>  124</td></tr>\n",
       "\t<tr><td>Council District 04 (CD 4)                                  </td><td>  123</td></tr>\n",
       "\t<tr><td>Council District 08 (CD 8)                                  </td><td>  118</td></tr>\n",
       "\t<tr><td>Council District 11 (CD 11)                                 </td><td>  118</td></tr>\n",
       "\t<tr><td>Council District 01 (CD 1)                                  </td><td>  117</td></tr>\n",
       "\t<tr><td>Council District 05 (CD 5)                                  </td><td>  117</td></tr>\n",
       "\t<tr><td>Council District 10 (CD 10)                                 </td><td>  117</td></tr>\n",
       "\t<tr><td>City Ethics Commission                                      </td><td>  116</td></tr>\n",
       "\t<tr><td>Council District 03 (CD 3)                                  </td><td>  107</td></tr>\n",
       "\t<tr><td>Council District 07 (CD 7)                                  </td><td>  107</td></tr>\n",
       "\t<tr><td>Council District 13 (CD 13)                                 </td><td>  107</td></tr>\n",
       "\t<tr><td>Council District 15 (CD 15)                                 </td><td>  107</td></tr>\n",
       "\t<tr><td>Council District 02 (CD 2)                                  </td><td>  105</td></tr>\n",
       "\t<tr><td>Council District 09 (CD 9)                                  </td><td>  104</td></tr>\n",
       "\t<tr><td>Council District 06 (CD 6)                                  </td><td>  103</td></tr>\n",
       "\t<tr><td>Council District 12 (CD 12)                                 </td><td>   99</td></tr>\n",
       "\t<tr><td>Disability                                                  </td><td>   84</td></tr>\n",
       "\t<tr><td>Los Angeles Convention Center                               </td><td>   75</td></tr>\n",
       "\t<tr><td>El Pueblo De Los Angeles Historical Monument Authority      </td><td>   47</td></tr>\n",
       "\t<tr><td>Los Angeles Department of Convention and Tourism Development</td><td>   45</td></tr>\n",
       "\t<tr><td>Employee Relations Board                                    </td><td>   16</td></tr>\n",
       "</tbody>\n",
       "</table>\n"
      ],
      "text/latex": [
       "A tibble: 58 × 2\n",
       "\\begin{tabular}{ll}\n",
       " Department.Title & count\\\\\n",
       " <chr> & <int>\\\\\n",
       "\\hline\n",
       "\t Police (LAPD)                                                & 65429\\\\\n",
       "\t Water And Power (DWP)                                        & 52923\\\\\n",
       "\t Fire (LAFD)                                                  & 18107\\\\\n",
       "\t Airports (LAWA)                                              & 16944\\\\\n",
       "\t Public Works - Sanitation                                    & 12710\\\\\n",
       "\t General Services                                             &  7029\\\\\n",
       "\t Recreation And Parks                                         &  7009\\\\\n",
       "\t Transportation (LADOT)                                       &  6734\\\\\n",
       "\t Harbor (Port of LA)                                          &  4741\\\\\n",
       "\t Public Works - Street Services                               &  4497\\\\\n",
       "\t City Attorney                                                &  4493\\\\\n",
       "\t Building and Safety                                          &  4158\\\\\n",
       "\t Public Works - Engineering                                   &  3819\\\\\n",
       "\t Library                                                      &  3716\\\\\n",
       "\t Housing And Community Investment Department                  &  3049\\\\\n",
       "\t Personnel                                                    &  2481\\\\\n",
       "\t Information Technology Agency                                &  2336\\\\\n",
       "\t Office of Finance                                            &  1659\\\\\n",
       "\t Animal Services                                              &  1604\\\\\n",
       "\t Public Works - Contract Administration                       &  1451\\\\\n",
       "\t City Planning                                                &  1113\\\\\n",
       "\t Public Works - Street Lighting                               &  1086\\\\\n",
       "\t Zoo                                                          &  1046\\\\\n",
       "\t Mayor                                                        &   947\\\\\n",
       "\t Economic And Workforce Development Department (EWDD)         &   768\\\\\n",
       "\t Controller                                                   &   740\\\\\n",
       "\t City Employees Retirement System (LACERS)                    &   669\\\\\n",
       "\t Pension (LAFPP)                                              &   572\\\\\n",
       "\t City Administrative Officer (CAO)                            &   565\\\\\n",
       "\t City Clerk                                                   &   476\\\\\n",
       "\t Public Works - Board of Public Works                         &   456\\\\\n",
       "\t City Planning And Development (DCP)                          &   284\\\\\n",
       "\t Office of the Chief Legislative Analyst (CLA)                &   232\\\\\n",
       "\t Cultural Affairs                                             &   203\\\\\n",
       "\t Aging                                                        &   187\\\\\n",
       "\t Council District 14 (CD 14)                                  &   138\\\\\n",
       "\t Neighborhood Empowerment (DONE)                              &   126\\\\\n",
       "\t Emergency Management                                         &   124\\\\\n",
       "\t Council District 04 (CD 4)                                   &   123\\\\\n",
       "\t Council District 08 (CD 8)                                   &   118\\\\\n",
       "\t Council District 11 (CD 11)                                  &   118\\\\\n",
       "\t Council District 01 (CD 1)                                   &   117\\\\\n",
       "\t Council District 05 (CD 5)                                   &   117\\\\\n",
       "\t Council District 10 (CD 10)                                  &   117\\\\\n",
       "\t City Ethics Commission                                       &   116\\\\\n",
       "\t Council District 03 (CD 3)                                   &   107\\\\\n",
       "\t Council District 07 (CD 7)                                   &   107\\\\\n",
       "\t Council District 13 (CD 13)                                  &   107\\\\\n",
       "\t Council District 15 (CD 15)                                  &   107\\\\\n",
       "\t Council District 02 (CD 2)                                   &   105\\\\\n",
       "\t Council District 09 (CD 9)                                   &   104\\\\\n",
       "\t Council District 06 (CD 6)                                   &   103\\\\\n",
       "\t Council District 12 (CD 12)                                  &    99\\\\\n",
       "\t Disability                                                   &    84\\\\\n",
       "\t Los Angeles Convention Center                                &    75\\\\\n",
       "\t El Pueblo De Los Angeles Historical Monument Authority       &    47\\\\\n",
       "\t Los Angeles Department of Convention and Tourism Development &    45\\\\\n",
       "\t Employee Relations Board                                     &    16\\\\\n",
       "\\end{tabular}\n"
      ],
      "text/markdown": [
       "\n",
       "A tibble: 58 × 2\n",
       "\n",
       "| Department.Title &lt;chr&gt; | count &lt;int&gt; |\n",
       "|---|---|\n",
       "| Police (LAPD)                                                | 65429 |\n",
       "| Water And Power (DWP)                                        | 52923 |\n",
       "| Fire (LAFD)                                                  | 18107 |\n",
       "| Airports (LAWA)                                              | 16944 |\n",
       "| Public Works - Sanitation                                    | 12710 |\n",
       "| General Services                                             |  7029 |\n",
       "| Recreation And Parks                                         |  7009 |\n",
       "| Transportation (LADOT)                                       |  6734 |\n",
       "| Harbor (Port of LA)                                          |  4741 |\n",
       "| Public Works - Street Services                               |  4497 |\n",
       "| City Attorney                                                |  4493 |\n",
       "| Building and Safety                                          |  4158 |\n",
       "| Public Works - Engineering                                   |  3819 |\n",
       "| Library                                                      |  3716 |\n",
       "| Housing And Community Investment Department                  |  3049 |\n",
       "| Personnel                                                    |  2481 |\n",
       "| Information Technology Agency                                |  2336 |\n",
       "| Office of Finance                                            |  1659 |\n",
       "| Animal Services                                              |  1604 |\n",
       "| Public Works - Contract Administration                       |  1451 |\n",
       "| City Planning                                                |  1113 |\n",
       "| Public Works - Street Lighting                               |  1086 |\n",
       "| Zoo                                                          |  1046 |\n",
       "| Mayor                                                        |   947 |\n",
       "| Economic And Workforce Development Department (EWDD)         |   768 |\n",
       "| Controller                                                   |   740 |\n",
       "| City Employees Retirement System (LACERS)                    |   669 |\n",
       "| Pension (LAFPP)                                              |   572 |\n",
       "| City Administrative Officer (CAO)                            |   565 |\n",
       "| City Clerk                                                   |   476 |\n",
       "| Public Works - Board of Public Works                         |   456 |\n",
       "| City Planning And Development (DCP)                          |   284 |\n",
       "| Office of the Chief Legislative Analyst (CLA)                |   232 |\n",
       "| Cultural Affairs                                             |   203 |\n",
       "| Aging                                                        |   187 |\n",
       "| Council District 14 (CD 14)                                  |   138 |\n",
       "| Neighborhood Empowerment (DONE)                              |   126 |\n",
       "| Emergency Management                                         |   124 |\n",
       "| Council District 04 (CD 4)                                   |   123 |\n",
       "| Council District 08 (CD 8)                                   |   118 |\n",
       "| Council District 11 (CD 11)                                  |   118 |\n",
       "| Council District 01 (CD 1)                                   |   117 |\n",
       "| Council District 05 (CD 5)                                   |   117 |\n",
       "| Council District 10 (CD 10)                                  |   117 |\n",
       "| City Ethics Commission                                       |   116 |\n",
       "| Council District 03 (CD 3)                                   |   107 |\n",
       "| Council District 07 (CD 7)                                   |   107 |\n",
       "| Council District 13 (CD 13)                                  |   107 |\n",
       "| Council District 15 (CD 15)                                  |   107 |\n",
       "| Council District 02 (CD 2)                                   |   105 |\n",
       "| Council District 09 (CD 9)                                   |   104 |\n",
       "| Council District 06 (CD 6)                                   |   103 |\n",
       "| Council District 12 (CD 12)                                  |    99 |\n",
       "| Disability                                                   |    84 |\n",
       "| Los Angeles Convention Center                                |    75 |\n",
       "| El Pueblo De Los Angeles Historical Monument Authority       |    47 |\n",
       "| Los Angeles Department of Convention and Tourism Development |    45 |\n",
       "| Employee Relations Board                                     |    16 |\n",
       "\n"
      ],
      "text/plain": [
       "   Department.Title                                             count\n",
       "1  Police (LAPD)                                                65429\n",
       "2  Water And Power (DWP)                                        52923\n",
       "3  Fire (LAFD)                                                  18107\n",
       "4  Airports (LAWA)                                              16944\n",
       "5  Public Works - Sanitation                                    12710\n",
       "6  General Services                                              7029\n",
       "7  Recreation And Parks                                          7009\n",
       "8  Transportation (LADOT)                                        6734\n",
       "9  Harbor (Port of LA)                                           4741\n",
       "10 Public Works - Street Services                                4497\n",
       "11 City Attorney                                                 4493\n",
       "12 Building and Safety                                           4158\n",
       "13 Public Works - Engineering                                    3819\n",
       "14 Library                                                       3716\n",
       "15 Housing And Community Investment Department                   3049\n",
       "16 Personnel                                                     2481\n",
       "17 Information Technology Agency                                 2336\n",
       "18 Office of Finance                                             1659\n",
       "19 Animal Services                                               1604\n",
       "20 Public Works - Contract Administration                        1451\n",
       "21 City Planning                                                 1113\n",
       "22 Public Works - Street Lighting                                1086\n",
       "23 Zoo                                                           1046\n",
       "24 Mayor                                                          947\n",
       "25 Economic And Workforce Development Department (EWDD)           768\n",
       "26 Controller                                                     740\n",
       "27 City Employees Retirement System (LACERS)                      669\n",
       "28 Pension (LAFPP)                                                572\n",
       "29 City Administrative Officer (CAO)                              565\n",
       "30 City Clerk                                                     476\n",
       "31 Public Works - Board of Public Works                           456\n",
       "32 City Planning And Development (DCP)                            284\n",
       "33 Office of the Chief Legislative Analyst (CLA)                  232\n",
       "34 Cultural Affairs                                               203\n",
       "35 Aging                                                          187\n",
       "36 Council District 14 (CD 14)                                    138\n",
       "37 Neighborhood Empowerment (DONE)                                126\n",
       "38 Emergency Management                                           124\n",
       "39 Council District 04 (CD 4)                                     123\n",
       "40 Council District 08 (CD 8)                                     118\n",
       "41 Council District 11 (CD 11)                                    118\n",
       "42 Council District 01 (CD 1)                                     117\n",
       "43 Council District 05 (CD 5)                                     117\n",
       "44 Council District 10 (CD 10)                                    117\n",
       "45 City Ethics Commission                                         116\n",
       "46 Council District 03 (CD 3)                                     107\n",
       "47 Council District 07 (CD 7)                                     107\n",
       "48 Council District 13 (CD 13)                                    107\n",
       "49 Council District 15 (CD 15)                                    107\n",
       "50 Council District 02 (CD 2)                                     105\n",
       "51 Council District 09 (CD 9)                                     104\n",
       "52 Council District 06 (CD 6)                                     103\n",
       "53 Council District 12 (CD 12)                                     99\n",
       "54 Disability                                                      84\n",
       "55 Los Angeles Convention Center                                   75\n",
       "56 El Pueblo De Los Angeles Historical Monument Authority          47\n",
       "57 Los Angeles Department of Convention and Tourism Development    45\n",
       "58 Employee Relations Board                                        16"
      ]
     },
     "metadata": {},
     "output_type": "display_data"
    }
   ],
   "source": [
    "# Descending Count of Employees of each Department working for the City of LA\n",
    "\n",
    "data %>%\n",
    "    group_by(Department.Title) %>%\n",
    "    summarize(count = n()) %>%\n",
    "    arrange(desc(count))"
   ]
  },
  {
   "cell_type": "markdown",
   "metadata": {},
   "source": [
    "Police(LAPD) and Water And Power(DWP) are the departments with most employees compared to the rest."
   ]
  },
  {
   "cell_type": "code",
   "execution_count": 32,
   "metadata": {
    "vscode": {
     "languageId": "r"
    }
   },
   "outputs": [],
   "source": [
    "# Subset data for POLICE and DWP employees.\n",
    "\n",
    "hypsub = subset(data, Department.Title %in% c(\"Police (LAPD)\", \"Water And Power (DWP)\"))"
   ]
  },
  {
   "cell_type": "code",
   "execution_count": 33,
   "metadata": {
    "vscode": {
     "languageId": "r"
    }
   },
   "outputs": [],
   "source": [
    "# Here I had to sample 5000 observations from my data because I will be doing a shapiro-wilk normality test. \n",
    "# This test only works with a maximum of 5000 samples.\n",
    "\n",
    "set.seed(123)\n",
    "hypsub1 <- hypsub[sample(nrow(hypsub), 5000), ]"
   ]
  },
  {
   "cell_type": "code",
   "execution_count": 34,
   "metadata": {
    "vscode": {
     "languageId": "r"
    }
   },
   "outputs": [
    {
     "data": {
      "text/html": [
       "5000"
      ],
      "text/latex": [
       "5000"
      ],
      "text/markdown": [
       "5000"
      ],
      "text/plain": [
       "[1] 5000"
      ]
     },
     "metadata": {},
     "output_type": "display_data"
    }
   ],
   "source": [
    "nrow(hypsub1)"
   ]
  },
  {
   "cell_type": "code",
   "execution_count": 35,
   "metadata": {
    "vscode": {
     "languageId": "r"
    }
   },
   "outputs": [
    {
     "data": {
      "text/plain": [
       "\n",
       "\tShapiro-Wilk normality test\n",
       "\n",
       "data:  hypsub1$Average.Benefit.Cost[hypsub1$Department.Title == \"Police (LAPD)\"]\n",
       "W = 0.83386, p-value < 2.2e-16\n"
      ]
     },
     "metadata": {},
     "output_type": "display_data"
    },
    {
     "data": {
      "text/plain": [
       "\n",
       "\tShapiro-Wilk normality test\n",
       "\n",
       "data:  hypsub1$Average.Benefit.Cost[hypsub1$Department.Title == \"Water And Power (DWP)\"]\n",
       "W = 0.84181, p-value < 2.2e-16\n"
      ]
     },
     "metadata": {},
     "output_type": "display_data"
    }
   ],
   "source": [
    "# Shapiro wilk test to test for normality\n",
    "\n",
    "shapiro.test(hypsub1$Average.Benefit.Cost[hypsub1$Department.Title == \"Police (LAPD)\"])\n",
    "shapiro.test(hypsub1$Average.Benefit.Cost[hypsub1$Department.Title == \"Water And Power (DWP)\"])"
   ]
  },
  {
   "cell_type": "markdown",
   "metadata": {},
   "source": [
    "Since the W value is closer to 1 in both cases, the samples resemble a normal distribution."
   ]
  },
  {
   "cell_type": "code",
   "execution_count": 36,
   "metadata": {
    "vscode": {
     "languageId": "r"
    }
   },
   "outputs": [
    {
     "data": {
      "text/plain": [
       "\n",
       "\tF test to compare two variances\n",
       "\n",
       "data:  x and y\n",
       "F = 1.7639, num df = 2808, denom df = 2190, p-value < 2.2e-16\n",
       "alternative hypothesis: true ratio of variances is not equal to 1\n",
       "95 percent confidence interval:\n",
       " 1.629487 1.908550\n",
       "sample estimates:\n",
       "ratio of variances \n",
       "          1.763852 \n"
      ]
     },
     "metadata": {},
     "output_type": "display_data"
    }
   ],
   "source": [
    "# Equal Variance test\n",
    "x = hypsub1$Average.Benefit.Cost[hypsub1$Department.Title == \"Police (LAPD)\"]\n",
    "y = hypsub1$Average.Benefit.Cost[hypsub1$Department.Title == \"Water And Power (DWP)\"]\n",
    "var.test(x,y)"
   ]
  },
  {
   "cell_type": "markdown",
   "metadata": {},
   "source": [
    "In this case, with a very low p value, we have to reject null hypothesis. This means that the variances of the two groups are significantly different (unequal variances).\n",
    "\n",
    "So now that the assumptions have been analyzed. We have to use a Welch's t-test which is a modification of the standard t-test that does not assume equal variances between the groups."
   ]
  },
  {
   "cell_type": "markdown",
   "metadata": {},
   "source": [
    "**H0:** No significant difference in the mean total benefits cost between the two departments.\n",
    "\n",
    "**H1:** There is a significant difference in the mean total benefits cost between the two departments."
   ]
  },
  {
   "cell_type": "code",
   "execution_count": 37,
   "metadata": {
    "vscode": {
     "languageId": "r"
    }
   },
   "outputs": [
    {
     "data": {
      "text/plain": [
       "\n",
       "\tWelch Two Sample t-test\n",
       "\n",
       "data:  x and y\n",
       "t = -221.89, df = 4992, p-value < 2.2e-16\n",
       "alternative hypothesis: true difference in means is not equal to 0\n",
       "95 percent confidence interval:\n",
       " -5566.204 -5468.707\n",
       "sample estimates:\n",
       "mean of x mean of y \n",
       " 12922.00  18439.45 \n"
      ]
     },
     "metadata": {},
     "output_type": "display_data"
    }
   ],
   "source": [
    "# Two sample Welch's T-test\n",
    "\n",
    "t.test(x, y, alternative=\"two.sided\", mu=0, var.equal=F, conf.level=0.95)"
   ]
  },
  {
   "cell_type": "markdown",
   "metadata": {},
   "source": [
    "With the p value being very low, we reject the null hypothesis. This means that there is a significant difference in the mean total benefits cost between the two departments."
   ]
  },
  {
   "cell_type": "markdown",
   "metadata": {},
   "source": [
    "#### More analysis on Benefit plans and Years"
   ]
  },
  {
   "cell_type": "code",
   "execution_count": 38,
   "metadata": {
    "vscode": {
     "languageId": "r"
    }
   },
   "outputs": [
    {
     "data": {
      "image/png": "[encoded data removed]",
      "text/plain": [
       "plot without title"
      ]
     },
     "metadata": {
      "image/png": {
       "height": 420,
       "width": 420
      }
     },
     "output_type": "display_data"
    }
   ],
   "source": [
    "# Let's look at the changing cost of benefits(Health, life & Dental) in each year (2013 - 2016).\n",
    "\n",
    "data$Year <- as.factor(data$Year)\n",
    "\n",
    "life  <- aggregate(data$Average.Basic.Life, list(data$Year), mean)\n",
    "dentist <- aggregate(data$Average.Dental.Cost, list(data$Year), mean)\n",
    "health <- aggregate(data$Average.Health.Cost, list(data$Year), mean)\n",
    "\n",
    "life$type <- c(\"Life Insurance\")\n",
    "dentist$type <- c(\"Dental Insurance\")\n",
    "health$type <- c(\"Health Insurance\")\n",
    "total <- rbind(health, dentist, life)\n",
    "ggplot(data = total, aes(x = Group.1, y = x, color = type, label = type)) +\n",
    "geom_line(aes(group = type), size=1) + ylab(\"Dollar Amount\") + xlab(\"Year\") + ggtitle(\"Insurance/Benefit type Trends\") +theme_minimal()\n"
   ]
  },
  {
   "cell_type": "code",
   "execution_count": 39,
   "metadata": {
    "vscode": {
     "languageId": "r"
    }
   },
   "outputs": [
    {
     "data": {
      "text/html": [
       "<table class=\"dataframe\">\n",
       "<caption>A data.frame: 4 × 3</caption>\n",
       "<thead>\n",
       "\t<tr><th scope=col>Group.1</th><th scope=col>x</th><th scope=col>type</th></tr>\n",
       "\t<tr><th scope=col>&lt;fct&gt;</th><th scope=col>&lt;dbl&gt;</th><th scope=col>&lt;chr&gt;</th></tr>\n",
       "</thead>\n",
       "<tbody>\n",
       "\t<tr><td>2013</td><td>12190.46</td><td>Health Insurance</td></tr>\n",
       "\t<tr><td>2014</td><td>12659.12</td><td>Health Insurance</td></tr>\n",
       "\t<tr><td>2015</td><td>12818.40</td><td>Health Insurance</td></tr>\n",
       "\t<tr><td>2016</td><td>13181.42</td><td>Health Insurance</td></tr>\n",
       "</tbody>\n",
       "</table>\n"
      ],
      "text/latex": [
       "A data.frame: 4 × 3\n",
       "\\begin{tabular}{lll}\n",
       " Group.1 & x & type\\\\\n",
       " <fct> & <dbl> & <chr>\\\\\n",
       "\\hline\n",
       "\t 2013 & 12190.46 & Health Insurance\\\\\n",
       "\t 2014 & 12659.12 & Health Insurance\\\\\n",
       "\t 2015 & 12818.40 & Health Insurance\\\\\n",
       "\t 2016 & 13181.42 & Health Insurance\\\\\n",
       "\\end{tabular}\n"
      ],
      "text/markdown": [
       "\n",
       "A data.frame: 4 × 3\n",
       "\n",
       "| Group.1 &lt;fct&gt; | x &lt;dbl&gt; | type &lt;chr&gt; |\n",
       "|---|---|---|\n",
       "| 2013 | 12190.46 | Health Insurance |\n",
       "| 2014 | 12659.12 | Health Insurance |\n",
       "| 2015 | 12818.40 | Health Insurance |\n",
       "| 2016 | 13181.42 | Health Insurance |\n",
       "\n"
      ],
      "text/plain": [
       "  Group.1 x        type            \n",
       "1 2013    12190.46 Health Insurance\n",
       "2 2014    12659.12 Health Insurance\n",
       "3 2015    12818.40 Health Insurance\n",
       "4 2016    13181.42 Health Insurance"
      ]
     },
     "metadata": {},
     "output_type": "display_data"
    }
   ],
   "source": [
    "health"
   ]
  },
  {
   "cell_type": "markdown",
   "metadata": {},
   "source": [
    "From the plot above, there is an increase in Health benefit costs over the years compared to the rest.\n",
    "\n",
    "Health insurance went up about 8.13% over the time period."
   ]
  },
  {
   "cell_type": "markdown",
   "metadata": {},
   "source": [
    "#### Some analysis on Salary"
   ]
  },
  {
   "cell_type": "code",
   "execution_count": 40,
   "metadata": {
    "scrolled": true,
    "vscode": {
     "languageId": "r"
    }
   },
   "outputs": [
    {
     "data": {
      "text/html": [
       "<table class=\"dataframe\">\n",
       "<caption>A tibble: 58 × 2</caption>\n",
       "<thead>\n",
       "\t<tr><th scope=col>Department.Title</th><th scope=col>mean</th></tr>\n",
       "\t<tr><th scope=col>&lt;chr&gt;</th><th scope=col>&lt;dbl&gt;</th></tr>\n",
       "</thead>\n",
       "<tbody>\n",
       "\t<tr><td>City Attorney                                               </td><td>122169.41</td></tr>\n",
       "\t<tr><td>City Administrative Officer (CAO)                           </td><td>116212.10</td></tr>\n",
       "\t<tr><td>Los Angeles Department of Convention and Tourism Development</td><td>112661.62</td></tr>\n",
       "\t<tr><td>Emergency Management                                        </td><td>109102.20</td></tr>\n",
       "\t<tr><td>Office of the Chief Legislative Analyst (CLA)               </td><td>103422.43</td></tr>\n",
       "\t<tr><td>City Ethics Commission                                      </td><td>102761.03</td></tr>\n",
       "\t<tr><td>Information Technology Agency                               </td><td>101518.69</td></tr>\n",
       "\t<tr><td>Controller                                                  </td><td>100509.60</td></tr>\n",
       "\t<tr><td>Public Works - Engineering                                  </td><td> 98714.87</td></tr>\n",
       "\t<tr><td>Police (LAPD)                                               </td><td> 96907.30</td></tr>\n",
       "\t<tr><td>El Pueblo De Los Angeles Historical Monument Authority      </td><td> 95129.84</td></tr>\n",
       "\t<tr><td>Harbor (Port of LA)                                         </td><td> 94212.54</td></tr>\n",
       "\t<tr><td>Water And Power (DWP)                                       </td><td> 93458.35</td></tr>\n",
       "\t<tr><td>Pension (LAFPP)                                             </td><td> 92462.62</td></tr>\n",
       "\t<tr><td>Public Works - Contract Administration                      </td><td> 91805.35</td></tr>\n",
       "\t<tr><td>City Planning                                               </td><td> 91800.84</td></tr>\n",
       "\t<tr><td>Economic And Workforce Development Department (EWDD)        </td><td> 90093.78</td></tr>\n",
       "\t<tr><td>Building and Safety                                         </td><td> 90067.84</td></tr>\n",
       "\t<tr><td>City Planning And Development (DCP)                         </td><td> 89180.82</td></tr>\n",
       "\t<tr><td>City Clerk                                                  </td><td> 88632.48</td></tr>\n",
       "\t<tr><td>Disability                                                  </td><td> 88389.96</td></tr>\n",
       "\t<tr><td>Council District 10 (CD 10)                                 </td><td> 88302.35</td></tr>\n",
       "\t<tr><td>Employee Relations Board                                    </td><td> 88293.41</td></tr>\n",
       "\t<tr><td>Personnel                                                   </td><td> 87689.74</td></tr>\n",
       "\t<tr><td>Aging                                                       </td><td> 86678.04</td></tr>\n",
       "\t<tr><td>City Employees Retirement System (LACERS)                   </td><td> 85568.37</td></tr>\n",
       "\t<tr><td>Office of Finance                                           </td><td> 85512.18</td></tr>\n",
       "\t<tr><td>Housing And Community Investment Department                 </td><td> 85447.84</td></tr>\n",
       "\t<tr><td>Public Works - Board of Public Works                        </td><td> 85431.12</td></tr>\n",
       "\t<tr><td>Public Works - Street Lighting                              </td><td> 84810.50</td></tr>\n",
       "\t<tr><td>Cultural Affairs                                            </td><td> 83327.70</td></tr>\n",
       "\t<tr><td>Mayor                                                       </td><td> 83177.65</td></tr>\n",
       "\t<tr><td>Council District 11 (CD 11)                                 </td><td> 82851.17</td></tr>\n",
       "\t<tr><td>Fire (LAFD)                                                 </td><td> 82406.22</td></tr>\n",
       "\t<tr><td>Council District 09 (CD 9)                                  </td><td> 79608.36</td></tr>\n",
       "\t<tr><td>Neighborhood Empowerment (DONE)                             </td><td> 79493.49</td></tr>\n",
       "\t<tr><td>Public Works - Sanitation                                   </td><td> 79416.87</td></tr>\n",
       "\t<tr><td>Airports (LAWA)                                             </td><td> 78327.62</td></tr>\n",
       "\t<tr><td>Council District 12 (CD 12)                                 </td><td> 77186.26</td></tr>\n",
       "\t<tr><td>Los Angeles Convention Center                               </td><td> 76798.72</td></tr>\n",
       "\t<tr><td>Public Works - Street Services                              </td><td> 76775.72</td></tr>\n",
       "\t<tr><td>Council District 01 (CD 1)                                  </td><td> 76225.91</td></tr>\n",
       "\t<tr><td>Transportation (LADOT)                                      </td><td> 75560.32</td></tr>\n",
       "\t<tr><td>Council District 13 (CD 13)                                 </td><td> 74549.20</td></tr>\n",
       "\t<tr><td>Council District 04 (CD 4)                                  </td><td> 73836.06</td></tr>\n",
       "\t<tr><td>Council District 02 (CD 2)                                  </td><td> 73109.53</td></tr>\n",
       "\t<tr><td>General Services                                            </td><td> 72844.47</td></tr>\n",
       "\t<tr><td>Library                                                     </td><td> 71325.98</td></tr>\n",
       "\t<tr><td>Council District 14 (CD 14)                                 </td><td> 69459.47</td></tr>\n",
       "\t<tr><td>Council District 06 (CD 6)                                  </td><td> 69069.15</td></tr>\n",
       "\t<tr><td>Recreation And Parks                                        </td><td> 68785.02</td></tr>\n",
       "\t<tr><td>Council District 15 (CD 15)                                 </td><td> 68692.44</td></tr>\n",
       "\t<tr><td>Council District 03 (CD 3)                                  </td><td> 68341.94</td></tr>\n",
       "\t<tr><td>Council District 07 (CD 7)                                  </td><td> 68271.55</td></tr>\n",
       "\t<tr><td>Council District 08 (CD 8)                                  </td><td> 68212.33</td></tr>\n",
       "\t<tr><td>Council District 05 (CD 5)                                  </td><td> 67806.35</td></tr>\n",
       "\t<tr><td>Zoo                                                         </td><td> 67621.75</td></tr>\n",
       "\t<tr><td>Animal Services                                             </td><td> 62163.84</td></tr>\n",
       "</tbody>\n",
       "</table>\n"
      ],
      "text/latex": [
       "A tibble: 58 × 2\n",
       "\\begin{tabular}{ll}\n",
       " Department.Title & mean\\\\\n",
       " <chr> & <dbl>\\\\\n",
       "\\hline\n",
       "\t City Attorney                                                & 122169.41\\\\\n",
       "\t City Administrative Officer (CAO)                            & 116212.10\\\\\n",
       "\t Los Angeles Department of Convention and Tourism Development & 112661.62\\\\\n",
       "\t Emergency Management                                         & 109102.20\\\\\n",
       "\t Office of the Chief Legislative Analyst (CLA)                & 103422.43\\\\\n",
       "\t City Ethics Commission                                       & 102761.03\\\\\n",
       "\t Information Technology Agency                                & 101518.69\\\\\n",
       "\t Controller                                                   & 100509.60\\\\\n",
       "\t Public Works - Engineering                                   &  98714.87\\\\\n",
       "\t Police (LAPD)                                                &  96907.30\\\\\n",
       "\t El Pueblo De Los Angeles Historical Monument Authority       &  95129.84\\\\\n",
       "\t Harbor (Port of LA)                                          &  94212.54\\\\\n",
       "\t Water And Power (DWP)                                        &  93458.35\\\\\n",
       "\t Pension (LAFPP)                                              &  92462.62\\\\\n",
       "\t Public Works - Contract Administration                       &  91805.35\\\\\n",
       "\t City Planning                                                &  91800.84\\\\\n",
       "\t Economic And Workforce Development Department (EWDD)         &  90093.78\\\\\n",
       "\t Building and Safety                                          &  90067.84\\\\\n",
       "\t City Planning And Development (DCP)                          &  89180.82\\\\\n",
       "\t City Clerk                                                   &  88632.48\\\\\n",
       "\t Disability                                                   &  88389.96\\\\\n",
       "\t Council District 10 (CD 10)                                  &  88302.35\\\\\n",
       "\t Employee Relations Board                                     &  88293.41\\\\\n",
       "\t Personnel                                                    &  87689.74\\\\\n",
       "\t Aging                                                        &  86678.04\\\\\n",
       "\t City Employees Retirement System (LACERS)                    &  85568.37\\\\\n",
       "\t Office of Finance                                            &  85512.18\\\\\n",
       "\t Housing And Community Investment Department                  &  85447.84\\\\\n",
       "\t Public Works - Board of Public Works                         &  85431.12\\\\\n",
       "\t Public Works - Street Lighting                               &  84810.50\\\\\n",
       "\t Cultural Affairs                                             &  83327.70\\\\\n",
       "\t Mayor                                                        &  83177.65\\\\\n",
       "\t Council District 11 (CD 11)                                  &  82851.17\\\\\n",
       "\t Fire (LAFD)                                                  &  82406.22\\\\\n",
       "\t Council District 09 (CD 9)                                   &  79608.36\\\\\n",
       "\t Neighborhood Empowerment (DONE)                              &  79493.49\\\\\n",
       "\t Public Works - Sanitation                                    &  79416.87\\\\\n",
       "\t Airports (LAWA)                                              &  78327.62\\\\\n",
       "\t Council District 12 (CD 12)                                  &  77186.26\\\\\n",
       "\t Los Angeles Convention Center                                &  76798.72\\\\\n",
       "\t Public Works - Street Services                               &  76775.72\\\\\n",
       "\t Council District 01 (CD 1)                                   &  76225.91\\\\\n",
       "\t Transportation (LADOT)                                       &  75560.32\\\\\n",
       "\t Council District 13 (CD 13)                                  &  74549.20\\\\\n",
       "\t Council District 04 (CD 4)                                   &  73836.06\\\\\n",
       "\t Council District 02 (CD 2)                                   &  73109.53\\\\\n",
       "\t General Services                                             &  72844.47\\\\\n",
       "\t Library                                                      &  71325.98\\\\\n",
       "\t Council District 14 (CD 14)                                  &  69459.47\\\\\n",
       "\t Council District 06 (CD 6)                                   &  69069.15\\\\\n",
       "\t Recreation And Parks                                         &  68785.02\\\\\n",
       "\t Council District 15 (CD 15)                                  &  68692.44\\\\\n",
       "\t Council District 03 (CD 3)                                   &  68341.94\\\\\n",
       "\t Council District 07 (CD 7)                                   &  68271.55\\\\\n",
       "\t Council District 08 (CD 8)                                   &  68212.33\\\\\n",
       "\t Council District 05 (CD 5)                                   &  67806.35\\\\\n",
       "\t Zoo                                                          &  67621.75\\\\\n",
       "\t Animal Services                                              &  62163.84\\\\\n",
       "\\end{tabular}\n"
      ],
      "text/markdown": [
       "\n",
       "A tibble: 58 × 2\n",
       "\n",
       "| Department.Title &lt;chr&gt; | mean &lt;dbl&gt; |\n",
       "|---|---|\n",
       "| City Attorney                                                | 122169.41 |\n",
       "| City Administrative Officer (CAO)                            | 116212.10 |\n",
       "| Los Angeles Department of Convention and Tourism Development | 112661.62 |\n",
       "| Emergency Management                                         | 109102.20 |\n",
       "| Office of the Chief Legislative Analyst (CLA)                | 103422.43 |\n",
       "| City Ethics Commission                                       | 102761.03 |\n",
       "| Information Technology Agency                                | 101518.69 |\n",
       "| Controller                                                   | 100509.60 |\n",
       "| Public Works - Engineering                                   |  98714.87 |\n",
       "| Police (LAPD)                                                |  96907.30 |\n",
       "| El Pueblo De Los Angeles Historical Monument Authority       |  95129.84 |\n",
       "| Harbor (Port of LA)                                          |  94212.54 |\n",
       "| Water And Power (DWP)                                        |  93458.35 |\n",
       "| Pension (LAFPP)                                              |  92462.62 |\n",
       "| Public Works - Contract Administration                       |  91805.35 |\n",
       "| City Planning                                                |  91800.84 |\n",
       "| Economic And Workforce Development Department (EWDD)         |  90093.78 |\n",
       "| Building and Safety                                          |  90067.84 |\n",
       "| City Planning And Development (DCP)                          |  89180.82 |\n",
       "| City Clerk                                                   |  88632.48 |\n",
       "| Disability                                                   |  88389.96 |\n",
       "| Council District 10 (CD 10)                                  |  88302.35 |\n",
       "| Employee Relations Board                                     |  88293.41 |\n",
       "| Personnel                                                    |  87689.74 |\n",
       "| Aging                                                        |  86678.04 |\n",
       "| City Employees Retirement System (LACERS)                    |  85568.37 |\n",
       "| Office of Finance                                            |  85512.18 |\n",
       "| Housing And Community Investment Department                  |  85447.84 |\n",
       "| Public Works - Board of Public Works                         |  85431.12 |\n",
       "| Public Works - Street Lighting                               |  84810.50 |\n",
       "| Cultural Affairs                                             |  83327.70 |\n",
       "| Mayor                                                        |  83177.65 |\n",
       "| Council District 11 (CD 11)                                  |  82851.17 |\n",
       "| Fire (LAFD)                                                  |  82406.22 |\n",
       "| Council District 09 (CD 9)                                   |  79608.36 |\n",
       "| Neighborhood Empowerment (DONE)                              |  79493.49 |\n",
       "| Public Works - Sanitation                                    |  79416.87 |\n",
       "| Airports (LAWA)                                              |  78327.62 |\n",
       "| Council District 12 (CD 12)                                  |  77186.26 |\n",
       "| Los Angeles Convention Center                                |  76798.72 |\n",
       "| Public Works - Street Services                               |  76775.72 |\n",
       "| Council District 01 (CD 1)                                   |  76225.91 |\n",
       "| Transportation (LADOT)                                       |  75560.32 |\n",
       "| Council District 13 (CD 13)                                  |  74549.20 |\n",
       "| Council District 04 (CD 4)                                   |  73836.06 |\n",
       "| Council District 02 (CD 2)                                   |  73109.53 |\n",
       "| General Services                                             |  72844.47 |\n",
       "| Library                                                      |  71325.98 |\n",
       "| Council District 14 (CD 14)                                  |  69459.47 |\n",
       "| Council District 06 (CD 6)                                   |  69069.15 |\n",
       "| Recreation And Parks                                         |  68785.02 |\n",
       "| Council District 15 (CD 15)                                  |  68692.44 |\n",
       "| Council District 03 (CD 3)                                   |  68341.94 |\n",
       "| Council District 07 (CD 7)                                   |  68271.55 |\n",
       "| Council District 08 (CD 8)                                   |  68212.33 |\n",
       "| Council District 05 (CD 5)                                   |  67806.35 |\n",
       "| Zoo                                                          |  67621.75 |\n",
       "| Animal Services                                              |  62163.84 |\n",
       "\n"
      ],
      "text/plain": [
       "   Department.Title                                             mean     \n",
       "1  City Attorney                                                122169.41\n",
       "2  City Administrative Officer (CAO)                            116212.10\n",
       "3  Los Angeles Department of Convention and Tourism Development 112661.62\n",
       "4  Emergency Management                                         109102.20\n",
       "5  Office of the Chief Legislative Analyst (CLA)                103422.43\n",
       "6  City Ethics Commission                                       102761.03\n",
       "7  Information Technology Agency                                101518.69\n",
       "8  Controller                                                   100509.60\n",
       "9  Public Works - Engineering                                    98714.87\n",
       "10 Police (LAPD)                                                 96907.30\n",
       "11 El Pueblo De Los Angeles Historical Monument Authority        95129.84\n",
       "12 Harbor (Port of LA)                                           94212.54\n",
       "13 Water And Power (DWP)                                         93458.35\n",
       "14 Pension (LAFPP)                                               92462.62\n",
       "15 Public Works - Contract Administration                        91805.35\n",
       "16 City Planning                                                 91800.84\n",
       "17 Economic And Workforce Development Department (EWDD)          90093.78\n",
       "18 Building and Safety                                           90067.84\n",
       "19 City Planning And Development (DCP)                           89180.82\n",
       "20 City Clerk                                                    88632.48\n",
       "21 Disability                                                    88389.96\n",
       "22 Council District 10 (CD 10)                                   88302.35\n",
       "23 Employee Relations Board                                      88293.41\n",
       "24 Personnel                                                     87689.74\n",
       "25 Aging                                                         86678.04\n",
       "26 City Employees Retirement System (LACERS)                     85568.37\n",
       "27 Office of Finance                                             85512.18\n",
       "28 Housing And Community Investment Department                   85447.84\n",
       "29 Public Works - Board of Public Works                          85431.12\n",
       "30 Public Works - Street Lighting                                84810.50\n",
       "31 Cultural Affairs                                              83327.70\n",
       "32 Mayor                                                         83177.65\n",
       "33 Council District 11 (CD 11)                                   82851.17\n",
       "34 Fire (LAFD)                                                   82406.22\n",
       "35 Council District 09 (CD 9)                                    79608.36\n",
       "36 Neighborhood Empowerment (DONE)                               79493.49\n",
       "37 Public Works - Sanitation                                     79416.87\n",
       "38 Airports (LAWA)                                               78327.62\n",
       "39 Council District 12 (CD 12)                                   77186.26\n",
       "40 Los Angeles Convention Center                                 76798.72\n",
       "41 Public Works - Street Services                                76775.72\n",
       "42 Council District 01 (CD 1)                                    76225.91\n",
       "43 Transportation (LADOT)                                        75560.32\n",
       "44 Council District 13 (CD 13)                                   74549.20\n",
       "45 Council District 04 (CD 4)                                    73836.06\n",
       "46 Council District 02 (CD 2)                                    73109.53\n",
       "47 General Services                                              72844.47\n",
       "48 Library                                                       71325.98\n",
       "49 Council District 14 (CD 14)                                   69459.47\n",
       "50 Council District 06 (CD 6)                                    69069.15\n",
       "51 Recreation And Parks                                          68785.02\n",
       "52 Council District 15 (CD 15)                                   68692.44\n",
       "53 Council District 03 (CD 3)                                    68341.94\n",
       "54 Council District 07 (CD 7)                                    68271.55\n",
       "55 Council District 08 (CD 8)                                    68212.33\n",
       "56 Council District 05 (CD 5)                                    67806.35\n",
       "57 Zoo                                                           67621.75\n",
       "58 Animal Services                                               62163.84"
      ]
     },
     "metadata": {},
     "output_type": "display_data"
    }
   ],
   "source": [
    "# Projected Annual Salary per Department in descending order\n",
    "data %>%\n",
    "    group_by(Department.Title) %>%\n",
    "    summarize(mean = mean(Projected.Annual.Salary)) %>%\n",
    "    arrange(desc(mean))"
   ]
  },
  {
   "cell_type": "code",
   "execution_count": 41,
   "metadata": {
    "vscode": {
     "languageId": "r"
    }
   },
   "outputs": [
    {
     "data": {
      "image/png": "[encoded data removed]",
      "text/plain": [
       "plot without title"
      ]
     },
     "metadata": {
      "image/png": {
       "height": 420,
       "width": 420
      }
     },
     "output_type": "display_data"
    }
   ],
   "source": [
    "# Distplot of Annual Salary\n",
    "\n",
    "ggplot(data,aes(x = Projected.Annual.Salary, color = 'density')) +  \n",
    "  geom_histogram(aes(y = ..density..), bins = 20,  fill = '#f59b7a', alpha = 0.5) +  \n",
    "  geom_density(bw = 4000, color = '#f59b7a') +   \n",
    "  ylab(\"Count\") + \n",
    "  xlab(\"Annual Salary\")  + theme(legend.title=element_blank()) + theme_minimal()+\n",
    "  scale_color_manual(values = c('density' = '#f59b7a')) +\n",
    "  scale_x_continuous(labels = scales::comma)  "
   ]
  },
  {
   "cell_type": "code",
   "execution_count": 42,
   "metadata": {
    "vscode": {
     "languageId": "r"
    }
   },
   "outputs": [
    {
     "data": {
      "image/png": "[encoded data removed]",
      "text/plain": [
       "plot without title"
      ]
     },
     "metadata": {
      "image/png": {
       "height": 420,
       "width": 420
      }
     },
     "output_type": "display_data"
    }
   ],
   "source": [
    "# Boxplot of annual salary.\n",
    "\n",
    "ggplot(data, aes(x = 1, y = Projected.Annual.Salary)) + geom_boxplot() + \n",
    "    scale_y_continuous(labels = scales::comma)+ \n",
    "    theme_minimal()"
   ]
  },
  {
   "cell_type": "markdown",
   "metadata": {},
   "source": [
    " I can notice quite a few outliers in the salary attribute."
   ]
  },
  {
   "cell_type": "markdown",
   "metadata": {},
   "source": [
    "#### Correlations"
   ]
  },
  {
   "cell_type": "code",
   "execution_count": 43,
   "metadata": {
    "vscode": {
     "languageId": "r"
    }
   },
   "outputs": [
    {
     "data": {
      "image/png": "[encoded data removed]",
      "text/plain": [
       "plot without title"
      ]
     },
     "metadata": {
      "image/png": {
       "height": 420,
       "width": 420
      }
     },
     "output_type": "display_data"
    }
   ],
   "source": [
    "# Correlation Plot\n",
    "corr_plot <- ggcorr(data[5:22], label = TRUE, label_size = 2.5, label_round = 2, label_alpha = FALSE, hjust = 1, size = 3, layout.exp = 4)\n",
    "corr_plot + theme_minimal() + theme(axis.text.x = element_text(angle = 45, hjust = 1))"
   ]
  },
  {
   "cell_type": "markdown",
   "metadata": {},
   "source": [
    "### Testing Models"
   ]
  },
  {
   "cell_type": "markdown",
   "metadata": {},
   "source": [
    "#### Train & Test Splitting"
   ]
  },
  {
   "cell_type": "code",
   "execution_count": 44,
   "metadata": {
    "vscode": {
     "languageId": "r"
    }
   },
   "outputs": [
    {
     "data": {
      "text/html": [
       "20745"
      ],
      "text/latex": [
       "20745"
      ],
      "text/markdown": [
       "20745"
      ],
      "text/plain": [
       "[1] 20745"
      ]
     },
     "metadata": {},
     "output_type": "display_data"
    }
   ],
   "source": [
    "sum(is.na(data))"
   ]
  },
  {
   "cell_type": "code",
   "execution_count": 45,
   "metadata": {
    "vscode": {
     "languageId": "r"
    }
   },
   "outputs": [],
   "source": [
    "data <- na.omit(data)"
   ]
  },
  {
   "cell_type": "code",
   "execution_count": 46,
   "metadata": {
    "vscode": {
     "languageId": "r"
    }
   },
   "outputs": [],
   "source": [
    "# Splitting data into train and test \n",
    "\n",
    "set.seed(100) \n",
    "split = sample.split(data$Average.Basic.Life, SplitRatio = 0.7)\n",
    "\n",
    "data_train = subset(data, split==TRUE)\n",
    "data_test = subset(data, split==FALSE)"
   ]
  },
  {
   "cell_type": "code",
   "execution_count": 47,
   "metadata": {
    "vscode": {
     "languageId": "r"
    }
   },
   "outputs": [
    {
     "data": {
      "text/html": [
       "151065"
      ],
      "text/latex": [
       "151065"
      ],
      "text/markdown": [
       "151065"
      ],
      "text/plain": [
       "[1] 151065"
      ]
     },
     "metadata": {},
     "output_type": "display_data"
    },
    {
     "data": {
      "text/html": [
       "64743"
      ],
      "text/latex": [
       "64743"
      ],
      "text/markdown": [
       "64743"
      ],
      "text/plain": [
       "[1] 64743"
      ]
     },
     "metadata": {},
     "output_type": "display_data"
    }
   ],
   "source": [
    "nrow(data_train)\n",
    "nrow(data_test)"
   ]
  },
  {
   "cell_type": "markdown",
   "metadata": {},
   "source": [
    "#### Linear Regression "
   ]
  },
  {
   "cell_type": "markdown",
   "metadata": {},
   "source": [
    "First I will be doing a simple regression model to predict 'Average Basic life' (life insurance cost sponsored by company) of employees.\n",
    "\n",
    "I am selecting the independent variables from the correlation plot above, and also selecting ones that I feel might help. "
   ]
  },
  {
   "cell_type": "code",
   "execution_count": 48,
   "metadata": {
    "vscode": {
     "languageId": "r"
    }
   },
   "outputs": [
    {
     "data": {
      "text/html": [
       "<style>\n",
       ".list-inline {list-style: none; margin:0; padding: 0}\n",
       ".list-inline>li {display: inline-block}\n",
       ".list-inline>li:not(:last-child)::after {content: \"\\00b7\"; padding: 0 .5ex}\n",
       "</style>\n",
       "<ol class=list-inline><li>'Year'</li><li>'Department.Title'</li><li>'Job.Class.Title'</li><li>'Employment.Type'</li><li>'Hourly.or.Event.Rate'</li><li>'Projected.Annual.Salary'</li><li>'Q1.Payments'</li><li>'Q2.Payments'</li><li>'Q3.Payments'</li><li>'Q4.Payments'</li><li>'Payments.Over.Base.Pay'</li><li>'Total.Payments'</li><li>'Base.Pay'</li><li>'Permanent.Bonus.Pay'</li><li>'Longevity.Bonus.Pay'</li><li>'Temporary.Bonus.Pay'</li><li>'Overtime.Pay'</li><li>'Other.Pay..Payroll.Explorer.'</li><li>'Average.Health.Cost'</li><li>'Average.Dental.Cost'</li><li>'Average.Basic.Life'</li><li>'Average.Benefit.Cost'</li><li>'Benefits.Plan'</li></ol>\n"
      ],
      "text/latex": [
       "\\begin{enumerate*}\n",
       "\\item 'Year'\n",
       "\\item 'Department.Title'\n",
       "\\item 'Job.Class.Title'\n",
       "\\item 'Employment.Type'\n",
       "\\item 'Hourly.or.Event.Rate'\n",
       "\\item 'Projected.Annual.Salary'\n",
       "\\item 'Q1.Payments'\n",
       "\\item 'Q2.Payments'\n",
       "\\item 'Q3.Payments'\n",
       "\\item 'Q4.Payments'\n",
       "\\item 'Payments.Over.Base.Pay'\n",
       "\\item 'Total.Payments'\n",
       "\\item 'Base.Pay'\n",
       "\\item 'Permanent.Bonus.Pay'\n",
       "\\item 'Longevity.Bonus.Pay'\n",
       "\\item 'Temporary.Bonus.Pay'\n",
       "\\item 'Overtime.Pay'\n",
       "\\item 'Other.Pay..Payroll.Explorer.'\n",
       "\\item 'Average.Health.Cost'\n",
       "\\item 'Average.Dental.Cost'\n",
       "\\item 'Average.Basic.Life'\n",
       "\\item 'Average.Benefit.Cost'\n",
       "\\item 'Benefits.Plan'\n",
       "\\end{enumerate*}\n"
      ],
      "text/markdown": [
       "1. 'Year'\n",
       "2. 'Department.Title'\n",
       "3. 'Job.Class.Title'\n",
       "4. 'Employment.Type'\n",
       "5. 'Hourly.or.Event.Rate'\n",
       "6. 'Projected.Annual.Salary'\n",
       "7. 'Q1.Payments'\n",
       "8. 'Q2.Payments'\n",
       "9. 'Q3.Payments'\n",
       "10. 'Q4.Payments'\n",
       "11. 'Payments.Over.Base.Pay'\n",
       "12. 'Total.Payments'\n",
       "13. 'Base.Pay'\n",
       "14. 'Permanent.Bonus.Pay'\n",
       "15. 'Longevity.Bonus.Pay'\n",
       "16. 'Temporary.Bonus.Pay'\n",
       "17. 'Overtime.Pay'\n",
       "18. 'Other.Pay..Payroll.Explorer.'\n",
       "19. 'Average.Health.Cost'\n",
       "20. 'Average.Dental.Cost'\n",
       "21. 'Average.Basic.Life'\n",
       "22. 'Average.Benefit.Cost'\n",
       "23. 'Benefits.Plan'\n",
       "\n",
       "\n"
      ],
      "text/plain": [
       " [1] \"Year\"                         \"Department.Title\"            \n",
       " [3] \"Job.Class.Title\"              \"Employment.Type\"             \n",
       " [5] \"Hourly.or.Event.Rate\"         \"Projected.Annual.Salary\"     \n",
       " [7] \"Q1.Payments\"                  \"Q2.Payments\"                 \n",
       " [9] \"Q3.Payments\"                  \"Q4.Payments\"                 \n",
       "[11] \"Payments.Over.Base.Pay\"       \"Total.Payments\"              \n",
       "[13] \"Base.Pay\"                     \"Permanent.Bonus.Pay\"         \n",
       "[15] \"Longevity.Bonus.Pay\"          \"Temporary.Bonus.Pay\"         \n",
       "[17] \"Overtime.Pay\"                 \"Other.Pay..Payroll.Explorer.\"\n",
       "[19] \"Average.Health.Cost\"          \"Average.Dental.Cost\"         \n",
       "[21] \"Average.Basic.Life\"           \"Average.Benefit.Cost\"        \n",
       "[23] \"Benefits.Plan\"               "
      ]
     },
     "metadata": {},
     "output_type": "display_data"
    }
   ],
   "source": [
    "names(data)"
   ]
  },
  {
   "cell_type": "code",
   "execution_count": 49,
   "metadata": {
    "scrolled": true,
    "vscode": {
     "languageId": "r"
    }
   },
   "outputs": [],
   "source": [
    "model1 <- lm(Average.Basic.Life ~  Average.Dental.Cost+\n",
    "                                    Other.Pay..Payroll.Explorer.+\n",
    "                                    Payments.Over.Base.Pay+Total.Payments+\n",
    "                                    Permanent.Bonus.Pay+\n",
    "                                    Q1.Payments+Q2.Payments+\n",
    "                                    Projected.Annual.Salary+\n",
    "                                    Hourly.or.Event.Rate, data = data_train)\n"
   ]
  },
  {
   "cell_type": "code",
   "execution_count": 50,
   "metadata": {
    "vscode": {
     "languageId": "r"
    }
   },
   "outputs": [
    {
     "data": {
      "text/plain": [
       "\n",
       "Call:\n",
       "lm(formula = Average.Basic.Life ~ Average.Dental.Cost + Other.Pay..Payroll.Explorer. + \n",
       "    Payments.Over.Base.Pay + Total.Payments + Permanent.Bonus.Pay + \n",
       "    Q1.Payments + Q2.Payments + Projected.Annual.Salary + Hourly.or.Event.Rate, \n",
       "    data = data_train)\n",
       "\n",
       "Residuals:\n",
       "    Min      1Q  Median      3Q     Max \n",
       "-654.38  -31.93  -11.27   54.09  715.72 \n",
       "\n",
       "Coefficients:\n",
       "                               Estimate Std. Error t value Pr(>|t|)    \n",
       "(Intercept)                  -3.188e+01  6.355e-01 -50.158  < 2e-16 ***\n",
       "Average.Dental.Cost           8.395e-02  5.819e-04 144.272  < 2e-16 ***\n",
       "Other.Pay..Payroll.Explorer. -1.477e-03  2.704e-05 -54.608  < 2e-16 ***\n",
       "Payments.Over.Base.Pay       -5.217e-05  1.895e-05  -2.753   0.0059 ** \n",
       "Total.Payments                5.901e-06  9.393e-06   0.628   0.5298    \n",
       "Permanent.Bonus.Pay           1.084e-02  5.804e-05 186.829  < 2e-16 ***\n",
       "Q1.Payments                  -2.579e-04  2.605e-05  -9.901  < 2e-16 ***\n",
       "Q2.Payments                   1.917e-04  2.384e-05   8.042 8.89e-16 ***\n",
       "Projected.Annual.Salary       8.111e-05  3.763e-04   0.216   0.8294    \n",
       "Hourly.or.Event.Rate          5.163e-01  7.860e-01   0.657   0.5113    \n",
       "---\n",
       "Signif. codes:  0 ‘***’ 0.001 ‘**’ 0.01 ‘*’ 0.05 ‘.’ 0.1 ‘ ’ 1\n",
       "\n",
       "Residual standard error: 66.94 on 151055 degrees of freedom\n",
       "Multiple R-squared:  0.3492,\tAdjusted R-squared:  0.3492 \n",
       "F-statistic:  9008 on 9 and 151055 DF,  p-value: < 2.2e-16\n"
      ]
     },
     "metadata": {},
     "output_type": "display_data"
    }
   ],
   "source": [
    "summary(model1)"
   ]
  },
  {
   "cell_type": "code",
   "execution_count": 51,
   "metadata": {
    "vscode": {
     "languageId": "r"
    }
   },
   "outputs": [
    {
     "data": {
      "text/html": [
       "4478.76861955695"
      ],
      "text/latex": [
       "4478.76861955695"
      ],
      "text/markdown": [
       "4478.76861955695"
      ],
      "text/plain": [
       "[1] 4478.769"
      ]
     },
     "metadata": {},
     "output_type": "display_data"
    }
   ],
   "source": [
    "# Lets Predict on the test data and calculate the Mean Squared Error.\n",
    "model1_pred_test = predict(model1, newdata = data_test)\n",
    "\n",
    "mse_m1_test <- mean((data_test$Average.Basic.Life - model1_pred_test)^2)\n",
    "mse_m1_test"
   ]
  },
  {
   "cell_type": "code",
   "execution_count": 52,
   "metadata": {
    "vscode": {
     "languageId": "r"
    }
   },
   "outputs": [
    {
     "data": {
      "text/html": [
       "4480.79406440986"
      ],
      "text/latex": [
       "4480.79406440986"
      ],
      "text/markdown": [
       "4480.79406440986"
      ],
      "text/plain": [
       "[1] 4480.794"
      ]
     },
     "metadata": {},
     "output_type": "display_data"
    }
   ],
   "source": [
    "# Predicting on the train data and calculating the Mean Squared Error.\n",
    "model1_pred_train <- predict(model1, newdata = data_train)\n",
    "mse_m1_train <- mean((data_train$Average.Basic.Life - model1_pred_train)^2)\n",
    "mse_m1_train"
   ]
  },
  {
   "cell_type": "markdown",
   "metadata": {},
   "source": [
    "In this first model, the R^2 value is fairly bad. The Mean squared error of both the test and training data are pretty high which suggests that the model is underfitted."
   ]
  },
  {
   "cell_type": "markdown",
   "metadata": {},
   "source": [
    "#### Linear Regression (Using Stepwise Selection)"
   ]
  },
  {
   "cell_type": "markdown",
   "metadata": {},
   "source": [
    "In this second model, I will be using stepwise selection to find the model with the lowest AIC value."
   ]
  },
  {
   "cell_type": "code",
   "execution_count": 53,
   "metadata": {
    "vscode": {
     "languageId": "r"
    }
   },
   "outputs": [
    {
     "data": {
      "text/html": [
       "<style>\n",
       ".list-inline {list-style: none; margin:0; padding: 0}\n",
       ".list-inline>li {display: inline-block}\n",
       ".list-inline>li:not(:last-child)::after {content: \"\\00b7\"; padding: 0 .5ex}\n",
       "</style>\n",
       "<ol class=list-inline><li>'Hourly.or.Event.Rate'</li><li>'Projected.Annual.Salary'</li><li>'Q1.Payments'</li><li>'Payments.Over.Base.Pay'</li><li>'Total.Payments'</li><li>'Permanent.Bonus.Pay'</li><li>'Other.Pay..Payroll.Explorer.'</li><li>'Overtime.Pay'</li><li>'Average.Health.Cost'</li><li>'Average.Dental.Cost'</li><li>'Average.Basic.Life'</li></ol>\n"
      ],
      "text/latex": [
       "\\begin{enumerate*}\n",
       "\\item 'Hourly.or.Event.Rate'\n",
       "\\item 'Projected.Annual.Salary'\n",
       "\\item 'Q1.Payments'\n",
       "\\item 'Payments.Over.Base.Pay'\n",
       "\\item 'Total.Payments'\n",
       "\\item 'Permanent.Bonus.Pay'\n",
       "\\item 'Other.Pay..Payroll.Explorer.'\n",
       "\\item 'Overtime.Pay'\n",
       "\\item 'Average.Health.Cost'\n",
       "\\item 'Average.Dental.Cost'\n",
       "\\item 'Average.Basic.Life'\n",
       "\\end{enumerate*}\n"
      ],
      "text/markdown": [
       "1. 'Hourly.or.Event.Rate'\n",
       "2. 'Projected.Annual.Salary'\n",
       "3. 'Q1.Payments'\n",
       "4. 'Payments.Over.Base.Pay'\n",
       "5. 'Total.Payments'\n",
       "6. 'Permanent.Bonus.Pay'\n",
       "7. 'Other.Pay..Payroll.Explorer.'\n",
       "8. 'Overtime.Pay'\n",
       "9. 'Average.Health.Cost'\n",
       "10. 'Average.Dental.Cost'\n",
       "11. 'Average.Basic.Life'\n",
       "\n",
       "\n"
      ],
      "text/plain": [
       " [1] \"Hourly.or.Event.Rate\"         \"Projected.Annual.Salary\"     \n",
       " [3] \"Q1.Payments\"                  \"Payments.Over.Base.Pay\"      \n",
       " [5] \"Total.Payments\"               \"Permanent.Bonus.Pay\"         \n",
       " [7] \"Other.Pay..Payroll.Explorer.\" \"Overtime.Pay\"                \n",
       " [9] \"Average.Health.Cost\"          \"Average.Dental.Cost\"         \n",
       "[11] \"Average.Basic.Life\"          "
      ]
     },
     "metadata": {},
     "output_type": "display_data"
    }
   ],
   "source": [
    "model_data_train <- data_train[c('Hourly.or.Event.Rate','Projected.Annual.Salary','Q1.Payments','Payments.Over.Base.Pay','Total.Payments','Permanent.Bonus.Pay','Other.Pay..Payroll.Explorer.','Overtime.Pay','Average.Health.Cost','Average.Dental.Cost','Average.Basic.Life')]\n",
    "model_data_test <- data_test[c('Hourly.or.Event.Rate','Projected.Annual.Salary','Q1.Payments','Payments.Over.Base.Pay','Total.Payments','Permanent.Bonus.Pay','Other.Pay..Payroll.Explorer.','Overtime.Pay','Average.Health.Cost','Average.Dental.Cost','Average.Basic.Life')]\n",
    "names(model_data_test)"
   ]
  },
  {
   "cell_type": "code",
   "execution_count": 54,
   "metadata": {
    "vscode": {
     "languageId": "r"
    }
   },
   "outputs": [
    {
     "name": "stdout",
     "output_type": "stream",
     "text": [
      "Start:  AIC=954676.4\n",
      "Average.Basic.Life ~ Hourly.or.Event.Rate + Projected.Annual.Salary + \n",
      "    Q1.Payments + Payments.Over.Base.Pay + Total.Payments + Permanent.Bonus.Pay + \n",
      "    Other.Pay..Payroll.Explorer. + Overtime.Pay + Average.Health.Cost + \n",
      "    Average.Dental.Cost\n",
      "\n",
      "\n",
      "Step:  AIC=954676.4\n",
      "Average.Basic.Life ~ Hourly.or.Event.Rate + Projected.Annual.Salary + \n",
      "    Q1.Payments + Payments.Over.Base.Pay + Total.Payments + Permanent.Bonus.Pay + \n",
      "    Other.Pay..Payroll.Explorer. + Average.Health.Cost + Average.Dental.Cost\n",
      "\n",
      "                               Df Sum of Sq       RSS     AIC\n",
      "- Projected.Annual.Salary       1         6  83886291  954674\n",
      "- Hourly.or.Event.Rate          1        54  83886339  954674\n",
      "<none>                                       83886286  954676\n",
      "- Payments.Over.Base.Pay        1   1975982  85862268  958192\n",
      "- Q1.Payments                   1   2148736  86035022  958495\n",
      "- Other.Pay..Payroll.Explorer.  1   2617364  86503649  959316\n",
      "- Permanent.Bonus.Pay           1   3276759  87163045  960463\n",
      "- Total.Payments                1   5505727  89392013  964277\n",
      "- Average.Health.Cost           1 593294691 677180976 1270170\n",
      "- Average.Dental.Cost           1 681297871 765184157 1288627\n",
      "\n",
      "Step:  AIC=954674.4\n",
      "Average.Basic.Life ~ Hourly.or.Event.Rate + Q1.Payments + Payments.Over.Base.Pay + \n",
      "    Total.Payments + Permanent.Bonus.Pay + Other.Pay..Payroll.Explorer. + \n",
      "    Average.Health.Cost + Average.Dental.Cost\n",
      "\n",
      "                               Df Sum of Sq       RSS     AIC\n",
      "<none>                                       83886291  954674\n",
      "- Hourly.or.Event.Rate          1     28867  83915159  954724\n",
      "- Payments.Over.Base.Pay        1   1975996  85862287  958190\n",
      "- Q1.Payments                   1   2148731  86035022  958493\n",
      "- Other.Pay..Payroll.Explorer.  1   2617379  86503670  959314\n",
      "- Permanent.Bonus.Pay           1   3276758  87163050  960461\n",
      "- Total.Payments                1   5505729  89392020  964275\n",
      "- Average.Health.Cost           1 593294892 677181183 1270168\n",
      "- Average.Dental.Cost           1 681297950 765184242 1288625\n"
     ]
    },
    {
     "data": {
      "text/plain": [
       "\n",
       "Call:\n",
       "lm(formula = Average.Basic.Life ~ Hourly.or.Event.Rate + Q1.Payments + \n",
       "    Payments.Over.Base.Pay + Total.Payments + Permanent.Bonus.Pay + \n",
       "    Other.Pay..Payroll.Explorer. + Average.Health.Cost + Average.Dental.Cost, \n",
       "    data = model_data_train)\n",
       "\n",
       "Residuals:\n",
       "    Min      1Q  Median      3Q     Max \n",
       "-93.947 -15.584  -1.045  12.627 186.591 \n",
       "\n",
       "Coefficients:\n",
       "                               Estimate Std. Error  t value Pr(>|t|)    \n",
       "(Intercept)                   5.325e+02  5.900e-01   902.63  < 2e-16 ***\n",
       "Hourly.or.Event.Rate          5.842e-02  8.103e-03     7.21 5.63e-13 ***\n",
       "Q1.Payments                   5.722e-04  9.199e-06    62.20  < 2e-16 ***\n",
       "Payments.Over.Base.Pay        3.986e-04  6.683e-06    59.65  < 2e-16 ***\n",
       "Total.Payments               -2.317e-04  2.327e-06   -99.57  < 2e-16 ***\n",
       "Permanent.Bonus.Pay           1.710e-03  2.226e-05    76.81  < 2e-16 ***\n",
       "Other.Pay..Payroll.Explorer. -6.558e-04  9.553e-06   -68.65  < 2e-16 ***\n",
       "Average.Health.Cost          -6.598e-02  6.384e-05 -1033.62  < 2e-16 ***\n",
       "Average.Dental.Cost           5.081e-01  4.587e-04  1107.62  < 2e-16 ***\n",
       "---\n",
       "Signif. codes:  0 ‘***’ 0.001 ‘**’ 0.01 ‘*’ 0.05 ‘.’ 0.1 ‘ ’ 1\n",
       "\n",
       "Residual standard error: 23.57 on 151056 degrees of freedom\n",
       "Multiple R-squared:  0.9194,\tAdjusted R-squared:  0.9193 \n",
       "F-statistic: 2.153e+05 on 8 and 151056 DF,  p-value: < 2.2e-16\n"
      ]
     },
     "metadata": {},
     "output_type": "display_data"
    }
   ],
   "source": [
    "# Using stepAIC to choose the model with lowest AIC.\n",
    "\n",
    "response_variable <- \"Average.Basic.Life\"\n",
    "\n",
    "full_model <- lm(as.formula(paste(response_variable, \"~ .\")), data = model_data_train)\n",
    "final_model <- stepAIC(full_model, direction = \"backward\")\n",
    "\n",
    "summary(final_model)"
   ]
  },
  {
   "cell_type": "code",
   "execution_count": 55,
   "metadata": {
    "vscode": {
     "languageId": "r"
    }
   },
   "outputs": [
    {
     "name": "stderr",
     "output_type": "stream",
     "text": [
      "Warning message in predict.lm(full_model, newdata = model_data_test):\n",
      "“prediction from a rank-deficient fit may be misleading”\n"
     ]
    },
    {
     "name": "stdout",
     "output_type": "stream",
     "text": [
      "[1] \"Mean Squared Error on Test Data: 555.742540978591\"\n"
     ]
    }
   ],
   "source": [
    "# Predicting on test data\n",
    "\n",
    "predictions <- predict(full_model, newdata = model_data_test)\n",
    "\n",
    "if (any(is.na(predictions)) || any(is.na(model_data_test$Average.Basic.Life))) {\n",
    "  print(\"Warning: Missing values detected in predictions or actual values.\")\n",
    "} else {\n",
    "  mse <- mean((model_data_test$Average.Basic.Life - predictions)^2)\n",
    "  print(paste(\"Mean Squared Error on Test Data:\", mse))\n",
    "}"
   ]
  },
  {
   "cell_type": "code",
   "execution_count": 56,
   "metadata": {
    "vscode": {
     "languageId": "r"
    }
   },
   "outputs": [
    {
     "name": "stderr",
     "output_type": "stream",
     "text": [
      "Warning message in predict.lm(full_model, newdata = model_data_train):\n",
      "“prediction from a rank-deficient fit may be misleading”\n"
     ]
    },
    {
     "name": "stdout",
     "output_type": "stream",
     "text": [
      "[1] \"Mean Squared Error on Train Data: 555.299280340334\"\n"
     ]
    }
   ],
   "source": [
    "# Predicting on train data\n",
    "\n",
    "predictions_train <- predict(full_model, newdata = model_data_train)\n",
    "mse <- mean((model_data_train$Average.Basic.Life - predictions_train)^2)\n",
    "print(paste(\"Mean Squared Error on Train Data:\", mse))"
   ]
  },
  {
   "cell_type": "markdown",
   "metadata": {},
   "source": [
    "This error means that there are linear dependencies among the predictor variables, making it hard to estimate unique coefficients for all variables. This could be due to multicollinearity or having redundant variables in the model.\n",
    "\n",
    "Let's use the alias funtions below to identify which coefficients are linearly dependent on others."
   ]
  },
  {
   "cell_type": "code",
   "execution_count": 57,
   "metadata": {
    "vscode": {
     "languageId": "r"
    }
   },
   "outputs": [
    {
     "data": {
      "text/plain": [
       "Model :\n",
       "Average.Basic.Life ~ Hourly.or.Event.Rate + Projected.Annual.Salary + \n",
       "    Q1.Payments + Payments.Over.Base.Pay + Total.Payments + Permanent.Bonus.Pay + \n",
       "    Other.Pay..Payroll.Explorer. + Overtime.Pay + Average.Health.Cost + \n",
       "    Average.Dental.Cost\n",
       "\n",
       "Complete :\n",
       "             (Intercept) Hourly.or.Event.Rate Projected.Annual.Salary\n",
       "Overtime.Pay  0           0                    0                     \n",
       "             Q1.Payments Payments.Over.Base.Pay Total.Payments\n",
       "Overtime.Pay  0           1                      0            \n",
       "             Permanent.Bonus.Pay Other.Pay..Payroll.Explorer.\n",
       "Overtime.Pay  0                  -1                          \n",
       "             Average.Health.Cost Average.Dental.Cost\n",
       "Overtime.Pay  0                   0                 \n"
      ]
     },
     "metadata": {},
     "output_type": "display_data"
    }
   ],
   "source": [
    "alias(full_model)"
   ]
  },
  {
   "cell_type": "markdown",
   "metadata": {},
   "source": [
    "We can notice that ' Other.Pay..Payroll.Explorer.' & 'Payments.Over.Base.Pay' have some issues with 'Overtime.Pay' as it indicates multicollinearity.\n"
   ]
  },
  {
   "cell_type": "markdown",
   "metadata": {},
   "source": [
    "Nevertheless, it seems like this model performed much better having a better R^2 value and a lower MSE value."
   ]
  },
  {
   "cell_type": "markdown",
   "metadata": {},
   "source": [
    "#### Linear Regression (Using PCA)"
   ]
  },
  {
   "cell_type": "markdown",
   "metadata": {},
   "source": [
    "In the final model, I will using Principle Component Analysis to help me out. As we saw previously, there are linear combinations of predictor variables. PCA might be useful here."
   ]
  },
  {
   "cell_type": "code",
   "execution_count": 58,
   "metadata": {
    "vscode": {
     "languageId": "r"
    }
   },
   "outputs": [
    {
     "data": {
      "text/html": [
       "<style>\n",
       ".list-inline {list-style: none; margin:0; padding: 0}\n",
       ".list-inline>li {display: inline-block}\n",
       ".list-inline>li:not(:last-child)::after {content: \"\\00b7\"; padding: 0 .5ex}\n",
       "</style>\n",
       "<ol class=list-inline><li>'Hourly.or.Event.Rate'</li><li>'Projected.Annual.Salary'</li><li>'Q1.Payments'</li><li>'Q2.Payments'</li><li>'Q3.Payments'</li><li>'Q4.Payments'</li><li>'Payments.Over.Base.Pay'</li><li>'Total.Payments'</li><li>'Base.Pay'</li><li>'Permanent.Bonus.Pay'</li><li>'Longevity.Bonus.Pay'</li><li>'Temporary.Bonus.Pay'</li><li>'Overtime.Pay'</li><li>'Other.Pay..Payroll.Explorer.'</li><li>'Average.Health.Cost'</li><li>'Average.Dental.Cost'</li><li>'Average.Basic.Life'</li></ol>\n"
      ],
      "text/latex": [
       "\\begin{enumerate*}\n",
       "\\item 'Hourly.or.Event.Rate'\n",
       "\\item 'Projected.Annual.Salary'\n",
       "\\item 'Q1.Payments'\n",
       "\\item 'Q2.Payments'\n",
       "\\item 'Q3.Payments'\n",
       "\\item 'Q4.Payments'\n",
       "\\item 'Payments.Over.Base.Pay'\n",
       "\\item 'Total.Payments'\n",
       "\\item 'Base.Pay'\n",
       "\\item 'Permanent.Bonus.Pay'\n",
       "\\item 'Longevity.Bonus.Pay'\n",
       "\\item 'Temporary.Bonus.Pay'\n",
       "\\item 'Overtime.Pay'\n",
       "\\item 'Other.Pay..Payroll.Explorer.'\n",
       "\\item 'Average.Health.Cost'\n",
       "\\item 'Average.Dental.Cost'\n",
       "\\item 'Average.Basic.Life'\n",
       "\\end{enumerate*}\n"
      ],
      "text/markdown": [
       "1. 'Hourly.or.Event.Rate'\n",
       "2. 'Projected.Annual.Salary'\n",
       "3. 'Q1.Payments'\n",
       "4. 'Q2.Payments'\n",
       "5. 'Q3.Payments'\n",
       "6. 'Q4.Payments'\n",
       "7. 'Payments.Over.Base.Pay'\n",
       "8. 'Total.Payments'\n",
       "9. 'Base.Pay'\n",
       "10. 'Permanent.Bonus.Pay'\n",
       "11. 'Longevity.Bonus.Pay'\n",
       "12. 'Temporary.Bonus.Pay'\n",
       "13. 'Overtime.Pay'\n",
       "14. 'Other.Pay..Payroll.Explorer.'\n",
       "15. 'Average.Health.Cost'\n",
       "16. 'Average.Dental.Cost'\n",
       "17. 'Average.Basic.Life'\n",
       "\n",
       "\n"
      ],
      "text/plain": [
       " [1] \"Hourly.or.Event.Rate\"         \"Projected.Annual.Salary\"     \n",
       " [3] \"Q1.Payments\"                  \"Q2.Payments\"                 \n",
       " [5] \"Q3.Payments\"                  \"Q4.Payments\"                 \n",
       " [7] \"Payments.Over.Base.Pay\"       \"Total.Payments\"              \n",
       " [9] \"Base.Pay\"                     \"Permanent.Bonus.Pay\"         \n",
       "[11] \"Longevity.Bonus.Pay\"          \"Temporary.Bonus.Pay\"         \n",
       "[13] \"Overtime.Pay\"                 \"Other.Pay..Payroll.Explorer.\"\n",
       "[15] \"Average.Health.Cost\"          \"Average.Dental.Cost\"         \n",
       "[17] \"Average.Basic.Life\"          "
      ]
     },
     "metadata": {},
     "output_type": "display_data"
    }
   ],
   "source": [
    "data1 = data[5:21]\n",
    "names(data1)"
   ]
  },
  {
   "cell_type": "code",
   "execution_count": 59,
   "metadata": {
    "vscode": {
     "languageId": "r"
    }
   },
   "outputs": [],
   "source": [
    "#scaled_data = as.data.frame(scale(data1))\n",
    "#sapply(scaled_data,mean)"
   ]
  },
  {
   "cell_type": "code",
   "execution_count": 60,
   "metadata": {
    "vscode": {
     "languageId": "r"
    }
   },
   "outputs": [],
   "source": [
    "# Scaling the data before working on them\n",
    "\n",
    "scaled_data_test = as.data.frame(scale(data_test[5:21]))\n",
    "scaled_data_train = as.data.frame(scale(data_train[5:21]))"
   ]
  },
  {
   "cell_type": "markdown",
   "metadata": {},
   "source": [
    "Below we are checking if the variables have mean close to 0 and Standard Deviation close 1 to confirm that they are standardized."
   ]
  },
  {
   "cell_type": "code",
   "execution_count": 61,
   "metadata": {
    "vscode": {
     "languageId": "r"
    }
   },
   "outputs": [
    {
     "data": {
      "text/html": [
       "<style>\n",
       ".dl-inline {width: auto; margin:0; padding: 0}\n",
       ".dl-inline>dt, .dl-inline>dd {float: none; width: auto; display: inline-block}\n",
       ".dl-inline>dt::after {content: \":\\0020\"; padding-right: .5ex}\n",
       ".dl-inline>dt:not(:first-of-type) {padding-left: .5ex}\n",
       "</style><dl class=dl-inline><dt>Hourly.or.Event.Rate</dt><dd>2.29564698370648e-16</dd><dt>Projected.Annual.Salary</dt><dd>2.66479489632801e-16</dd><dt>Q1.Payments</dt><dd>-7.63620675066624e-17</dd><dt>Q2.Payments</dt><dd>-1.25013988735474e-16</dd><dt>Q3.Payments</dt><dd>7.59010126231309e-17</dd><dt>Q4.Payments</dt><dd>-2.20776911950557e-16</dd><dt>Payments.Over.Base.Pay</dt><dd>1.60657525049577e-17</dd><dt>Total.Payments</dt><dd>1.90438308361413e-16</dd><dt>Base.Pay</dt><dd>-8.5608212210402e-18</dd><dt>Permanent.Bonus.Pay</dt><dd>-6.652517544236e-17</dd><dt>Longevity.Bonus.Pay</dt><dd>-4.38445760448385e-17</dd><dt>Temporary.Bonus.Pay</dt><dd>-3.77230258895086e-17</dd><dt>Overtime.Pay</dt><dd>-2.08423895723892e-17</dd><dt>Other.Pay..Payroll.Explorer.</dt><dd>6.94892455929574e-18</dd><dt>Average.Health.Cost</dt><dd>-1.94824328985452e-15</dd><dt>Average.Dental.Cost</dt><dd>-5.8949373677392e-17</dd><dt>Average.Basic.Life</dt><dd>1.02935044210888e-16</dd></dl>\n"
      ],
      "text/latex": [
       "\\begin{description*}\n",
       "\\item[Hourly.or.Event.Rate] 2.29564698370648e-16\n",
       "\\item[Projected.Annual.Salary] 2.66479489632801e-16\n",
       "\\item[Q1.Payments] -7.63620675066624e-17\n",
       "\\item[Q2.Payments] -1.25013988735474e-16\n",
       "\\item[Q3.Payments] 7.59010126231309e-17\n",
       "\\item[Q4.Payments] -2.20776911950557e-16\n",
       "\\item[Payments.Over.Base.Pay] 1.60657525049577e-17\n",
       "\\item[Total.Payments] 1.90438308361413e-16\n",
       "\\item[Base.Pay] -8.5608212210402e-18\n",
       "\\item[Permanent.Bonus.Pay] -6.652517544236e-17\n",
       "\\item[Longevity.Bonus.Pay] -4.38445760448385e-17\n",
       "\\item[Temporary.Bonus.Pay] -3.77230258895086e-17\n",
       "\\item[Overtime.Pay] -2.08423895723892e-17\n",
       "\\item[Other.Pay..Payroll.Explorer.] 6.94892455929574e-18\n",
       "\\item[Average.Health.Cost] -1.94824328985452e-15\n",
       "\\item[Average.Dental.Cost] -5.8949373677392e-17\n",
       "\\item[Average.Basic.Life] 1.02935044210888e-16\n",
       "\\end{description*}\n"
      ],
      "text/markdown": [
       "Hourly.or.Event.Rate\n",
       ":   2.29564698370648e-16Projected.Annual.Salary\n",
       ":   2.66479489632801e-16Q1.Payments\n",
       ":   -7.63620675066624e-17Q2.Payments\n",
       ":   -1.25013988735474e-16Q3.Payments\n",
       ":   7.59010126231309e-17Q4.Payments\n",
       ":   -2.20776911950557e-16Payments.Over.Base.Pay\n",
       ":   1.60657525049577e-17Total.Payments\n",
       ":   1.90438308361413e-16Base.Pay\n",
       ":   -8.5608212210402e-18Permanent.Bonus.Pay\n",
       ":   -6.652517544236e-17Longevity.Bonus.Pay\n",
       ":   -4.38445760448385e-17Temporary.Bonus.Pay\n",
       ":   -3.77230258895086e-17Overtime.Pay\n",
       ":   -2.08423895723892e-17Other.Pay..Payroll.Explorer.\n",
       ":   6.94892455929574e-18Average.Health.Cost\n",
       ":   -1.94824328985452e-15Average.Dental.Cost\n",
       ":   -5.8949373677392e-17Average.Basic.Life\n",
       ":   1.02935044210888e-16\n",
       "\n"
      ],
      "text/plain": [
       "        Hourly.or.Event.Rate      Projected.Annual.Salary \n",
       "                2.295647e-16                 2.664795e-16 \n",
       "                 Q1.Payments                  Q2.Payments \n",
       "               -7.636207e-17                -1.250140e-16 \n",
       "                 Q3.Payments                  Q4.Payments \n",
       "                7.590101e-17                -2.207769e-16 \n",
       "      Payments.Over.Base.Pay               Total.Payments \n",
       "                1.606575e-17                 1.904383e-16 \n",
       "                    Base.Pay          Permanent.Bonus.Pay \n",
       "               -8.560821e-18                -6.652518e-17 \n",
       "         Longevity.Bonus.Pay          Temporary.Bonus.Pay \n",
       "               -4.384458e-17                -3.772303e-17 \n",
       "                Overtime.Pay Other.Pay..Payroll.Explorer. \n",
       "               -2.084239e-17                 6.948925e-18 \n",
       "         Average.Health.Cost          Average.Dental.Cost \n",
       "               -1.948243e-15                -5.894937e-17 \n",
       "          Average.Basic.Life \n",
       "                1.029350e-16 "
      ]
     },
     "metadata": {},
     "output_type": "display_data"
    }
   ],
   "source": [
    "sapply(scaled_data_train,mean)"
   ]
  },
  {
   "cell_type": "code",
   "execution_count": 62,
   "metadata": {
    "vscode": {
     "languageId": "r"
    }
   },
   "outputs": [
    {
     "data": {
      "text/html": [
       "<style>\n",
       ".dl-inline {width: auto; margin:0; padding: 0}\n",
       ".dl-inline>dt, .dl-inline>dd {float: none; width: auto; display: inline-block}\n",
       ".dl-inline>dt::after {content: \":\\0020\"; padding-right: .5ex}\n",
       ".dl-inline>dt:not(:first-of-type) {padding-left: .5ex}\n",
       "</style><dl class=dl-inline><dt>Hourly.or.Event.Rate</dt><dd>1</dd><dt>Projected.Annual.Salary</dt><dd>1</dd><dt>Q1.Payments</dt><dd>1</dd><dt>Q2.Payments</dt><dd>1</dd><dt>Q3.Payments</dt><dd>0.999999999999999</dd><dt>Q4.Payments</dt><dd>1</dd><dt>Payments.Over.Base.Pay</dt><dd>1</dd><dt>Total.Payments</dt><dd>1</dd><dt>Base.Pay</dt><dd>1</dd><dt>Permanent.Bonus.Pay</dt><dd>1</dd><dt>Longevity.Bonus.Pay</dt><dd>1</dd><dt>Temporary.Bonus.Pay</dt><dd>1</dd><dt>Overtime.Pay</dt><dd>1</dd><dt>Other.Pay..Payroll.Explorer.</dt><dd>1</dd><dt>Average.Health.Cost</dt><dd>1</dd><dt>Average.Dental.Cost</dt><dd>1</dd><dt>Average.Basic.Life</dt><dd>1</dd></dl>\n"
      ],
      "text/latex": [
       "\\begin{description*}\n",
       "\\item[Hourly.or.Event.Rate] 1\n",
       "\\item[Projected.Annual.Salary] 1\n",
       "\\item[Q1.Payments] 1\n",
       "\\item[Q2.Payments] 1\n",
       "\\item[Q3.Payments] 0.999999999999999\n",
       "\\item[Q4.Payments] 1\n",
       "\\item[Payments.Over.Base.Pay] 1\n",
       "\\item[Total.Payments] 1\n",
       "\\item[Base.Pay] 1\n",
       "\\item[Permanent.Bonus.Pay] 1\n",
       "\\item[Longevity.Bonus.Pay] 1\n",
       "\\item[Temporary.Bonus.Pay] 1\n",
       "\\item[Overtime.Pay] 1\n",
       "\\item[Other.Pay..Payroll.Explorer.] 1\n",
       "\\item[Average.Health.Cost] 1\n",
       "\\item[Average.Dental.Cost] 1\n",
       "\\item[Average.Basic.Life] 1\n",
       "\\end{description*}\n"
      ],
      "text/markdown": [
       "Hourly.or.Event.Rate\n",
       ":   1Projected.Annual.Salary\n",
       ":   1Q1.Payments\n",
       ":   1Q2.Payments\n",
       ":   1Q3.Payments\n",
       ":   0.999999999999999Q4.Payments\n",
       ":   1Payments.Over.Base.Pay\n",
       ":   1Total.Payments\n",
       ":   1Base.Pay\n",
       ":   1Permanent.Bonus.Pay\n",
       ":   1Longevity.Bonus.Pay\n",
       ":   1Temporary.Bonus.Pay\n",
       ":   1Overtime.Pay\n",
       ":   1Other.Pay..Payroll.Explorer.\n",
       ":   1Average.Health.Cost\n",
       ":   1Average.Dental.Cost\n",
       ":   1Average.Basic.Life\n",
       ":   1\n",
       "\n"
      ],
      "text/plain": [
       "        Hourly.or.Event.Rate      Projected.Annual.Salary \n",
       "                           1                            1 \n",
       "                 Q1.Payments                  Q2.Payments \n",
       "                           1                            1 \n",
       "                 Q3.Payments                  Q4.Payments \n",
       "                           1                            1 \n",
       "      Payments.Over.Base.Pay               Total.Payments \n",
       "                           1                            1 \n",
       "                    Base.Pay          Permanent.Bonus.Pay \n",
       "                           1                            1 \n",
       "         Longevity.Bonus.Pay          Temporary.Bonus.Pay \n",
       "                           1                            1 \n",
       "                Overtime.Pay Other.Pay..Payroll.Explorer. \n",
       "                           1                            1 \n",
       "         Average.Health.Cost          Average.Dental.Cost \n",
       "                           1                            1 \n",
       "          Average.Basic.Life \n",
       "                           1 "
      ]
     },
     "metadata": {},
     "output_type": "display_data"
    }
   ],
   "source": [
    "sapply(scaled_data_train,sd)"
   ]
  },
  {
   "cell_type": "code",
   "execution_count": 63,
   "metadata": {
    "vscode": {
     "languageId": "r"
    }
   },
   "outputs": [],
   "source": [
    "# We are removing the predicted variable before doing PCA\n",
    "\n",
    "data1pca = prcomp(scaled_data_train[,-17])"
   ]
  },
  {
   "cell_type": "code",
   "execution_count": 64,
   "metadata": {
    "vscode": {
     "languageId": "r"
    }
   },
   "outputs": [
    {
     "data": {
      "text/plain": [
       "Importance of components:\n",
       "                          PC1    PC2    PC3     PC4     PC5     PC6     PC7\n",
       "Standard deviation     2.5332 1.5854 1.4165 1.10278 0.99265 0.97320 0.87461\n",
       "Proportion of Variance 0.4011 0.1571 0.1254 0.07601 0.06158 0.05919 0.04781\n",
       "Cumulative Proportion  0.4011 0.5582 0.6836 0.75959 0.82117 0.88037 0.92818\n",
       "                           PC8     PC9    PC10    PC11    PC12    PC13\n",
       "Standard deviation     0.67467 0.60254 0.42271 0.27915 0.27247 0.01123\n",
       "Proportion of Variance 0.02845 0.02269 0.01117 0.00487 0.00464 0.00001\n",
       "Cumulative Proportion  0.95662 0.97931 0.99048 0.99535 0.99999 1.00000\n",
       "                            PC14      PC15      PC16\n",
       "Standard deviation     3.171e-16 2.884e-16 1.883e-16\n",
       "Proportion of Variance 0.000e+00 0.000e+00 0.000e+00\n",
       "Cumulative Proportion  1.000e+00 1.000e+00 1.000e+00"
      ]
     },
     "metadata": {},
     "output_type": "display_data"
    }
   ],
   "source": [
    "summary(data1pca)"
   ]
  },
  {
   "cell_type": "code",
   "execution_count": 65,
   "metadata": {
    "vscode": {
     "languageId": "r"
    }
   },
   "outputs": [
    {
     "data": {
      "image/png": "[encoded data removed]",
      "text/plain": [
       "Plot with title “data1pca”"
      ]
     },
     "metadata": {
      "image/png": {
       "height": 420,
       "width": 420
      }
     },
     "output_type": "display_data"
    }
   ],
   "source": [
    "screeplot(data1pca, type=\"lines\")"
   ]
  },
  {
   "cell_type": "code",
   "execution_count": 66,
   "metadata": {
    "vscode": {
     "languageId": "r"
    }
   },
   "outputs": [
    {
     "data": {
      "text/plain": [
       "\n",
       "Call:\n",
       "lm(formula = data_train$Average.Basic.Life ~ data1pca$x[, 1] + \n",
       "    data1pca$x[, 2] + data1pca$x[, 3] + data1pca$x[, 4] + data1pca$x[, \n",
       "    5] + data1pca$x[, 6] + data1pca$x[, 7])\n",
       "\n",
       "Residuals:\n",
       "    Min      1Q  Median      3Q     Max \n",
       "-621.00  -47.54  -25.66   58.45  331.81 \n",
       "\n",
       "Coefficients:\n",
       "                 Estimate Std. Error t value Pr(>|t|)    \n",
       "(Intercept)      64.82053    0.17645  367.37   <2e-16 ***\n",
       "data1pca$x[, 1]   9.79120    0.06965  140.57   <2e-16 ***\n",
       "data1pca$x[, 2]   7.02360    0.11129   63.11   <2e-16 ***\n",
       "data1pca$x[, 3]  -3.47621    0.12457  -27.91   <2e-16 ***\n",
       "data1pca$x[, 4]   6.02560    0.16000   37.66   <2e-16 ***\n",
       "data1pca$x[, 5]  17.23775    0.17775   96.98   <2e-16 ***\n",
       "data1pca$x[, 6] -21.25416    0.18131 -117.23   <2e-16 ***\n",
       "data1pca$x[, 7] -29.25121    0.20174 -144.99   <2e-16 ***\n",
       "---\n",
       "Signif. codes:  0 ‘***’ 0.001 ‘**’ 0.01 ‘*’ 0.05 ‘.’ 0.1 ‘ ’ 1\n",
       "\n",
       "Residual standard error: 68.58 on 151057 degrees of freedom\n",
       "Multiple R-squared:  0.317,\tAdjusted R-squared:  0.317 \n",
       "F-statistic: 1.002e+04 on 7 and 151057 DF,  p-value: < 2.2e-16\n"
      ]
     },
     "metadata": {},
     "output_type": "display_data"
    }
   ],
   "source": [
    "model2 <- lm(data_train$Average.Basic.Life ~ data1pca$x[,1]+ \n",
    "                                  data1pca$x[,2]+ \n",
    "                                  data1pca$x[,3]+ \n",
    "                                  data1pca$x[,4]+\n",
    "                                  data1pca$x[,5]+\n",
    "                                  data1pca$x[,6]+\n",
    "                                  data1pca$x[,7])\n",
    "summary(model2)"
   ]
  },
  {
   "cell_type": "markdown",
   "metadata": {},
   "source": [
    "As seen above, the model captures 90% of the variance with 7 Principle Components."
   ]
  },
  {
   "cell_type": "code",
   "execution_count": 67,
   "metadata": {
    "vscode": {
     "languageId": "r"
    }
   },
   "outputs": [
    {
     "name": "stderr",
     "output_type": "stream",
     "text": [
      "Warning message:\n",
      "“'newdata' had 64743 rows but variables found have 151065 rows”\n",
      "Warning message in scaled_data_test$Average.Basic.Life - model2_pred_test:\n",
      "“longer object length is not a multiple of shorter object length”\n"
     ]
    },
    {
     "data": {
      "text/html": [
       "6382.49630569791"
      ],
      "text/latex": [
       "6382.49630569791"
      ],
      "text/markdown": [
       "6382.49630569791"
      ],
      "text/plain": [
       "[1] 6382.496"
      ]
     },
     "metadata": {},
     "output_type": "display_data"
    }
   ],
   "source": [
    "# Predicting on test data\n",
    "\n",
    "model2_pred_test = predict(model2, newdata = scaled_data_test)\n",
    "\n",
    "mse_m2_test <- mean((scaled_data_test$Average.Basic.Life - model2_pred_test)^2)\n",
    "mse_m2_test"
   ]
  },
  {
   "cell_type": "code",
   "execution_count": 68,
   "metadata": {
    "vscode": {
     "languageId": "r"
    }
   },
   "outputs": [
    {
     "data": {
      "text/html": [
       "6332.83788162313"
      ],
      "text/latex": [
       "6332.83788162313"
      ],
      "text/markdown": [
       "6332.83788162313"
      ],
      "text/plain": [
       "[1] 6332.838"
      ]
     },
     "metadata": {},
     "output_type": "display_data"
    }
   ],
   "source": [
    "# Predicting on train data\n",
    "\n",
    "model2_pred_train = predict(model2, newdata = scaled_data_train)\n",
    "\n",
    "mse_m2_train <- mean((scaled_data_train$Average.Basic.Life - model2_pred_train)^2)\n",
    "mse_m2_train"
   ]
  },
  {
   "cell_type": "markdown",
   "metadata": {},
   "source": [
    "Observing the results, PCA did not do a great job at predicting either. The R^2 value is low and the mean squared error is fairly high compared to the model we found using stepwise selection."
   ]
  },
  {
   "cell_type": "markdown",
   "metadata": {},
   "source": [
    "### Visualizing Results"
   ]
  },
  {
   "cell_type": "code",
   "execution_count": 69,
   "metadata": {
    "vscode": {
     "languageId": "r"
    }
   },
   "outputs": [
    {
     "data": {
      "image/png": "[encoded data removed]",
      "text/plain": [
       "plot without title"
      ]
     },
     "metadata": {
      "image/png": {
       "height": 420,
       "width": 420
      }
     },
     "output_type": "display_data"
    }
   ],
   "source": [
    "# Comparison of Mean Squared Errors for Different Linear Models\n",
    "\n",
    "mse_data <- data.frame(Model = c(\"Simple Regression\", \"Stepwise Selection\", \"PCA\"), MSE = c(mse_m1_test, mse, mse_m2_test))\n",
    "\n",
    "ggplot(mse_data, aes(x = Model, y = MSE, fill = Model)) +\n",
    "  geom_bar(stat = \"identity\", position = \"dodge\",color = \"black\") +\n",
    "  geom_text(aes(label = sprintf(\"%.2f\", MSE)), position = position_dodge(width = 0.7), vjust = -0.5)+\n",
    "  labs(title = \"Comparison of MSE for Different Linear Models\", y = \"Mean Squared Error\") +\n",
    "  theme_minimal() + scale_fill_manual(values = c(\"#F8766D\", \"#00BFC4\", \"#619CFF\")) "
   ]
  },
  {
   "cell_type": "code",
   "execution_count": 70,
   "metadata": {
    "vscode": {
     "languageId": "r"
    }
   },
   "outputs": [
    {
     "data": {
      "image/png": "[encoded data removed]",
      "text/plain": [
       "plot without title"
      ]
     },
     "metadata": {
      "image/png": {
       "height": 420,
       "width": 420
      }
     },
     "output_type": "display_data"
    }
   ],
   "source": [
    "# Comparison of Adjusted R^2 values for Different Linear Models\n",
    "\n",
    "mse_data <- data.frame(Model = c(\"Simple Regression\", \"Stepwise Selection\", \"PCA\"), Adjusted_R2 = c(summary(model1)$adj.r.squared\n",
    ",summary(final_model)$adj.r.squared,summary(model2)$adj.r.squared))\n",
    "\n",
    "ggplot(mse_data, aes(x = Model, y = Adjusted_R2, fill = Model)) +\n",
    "  geom_bar(stat = \"identity\", position = \"dodge\",color = \"black\") +\n",
    "  geom_text(aes(label = sprintf(\"%.2f\", Adjusted_R2)), position = position_dodge(width = 0.7), vjust = -0.5)+\n",
    "  labs(title = \"Comparison of Adjusted R^2 values for Different Linear Models\", y = \"Mean Squared Error\") +\n",
    "  theme_minimal() + scale_fill_manual(values = c(\"#F8766D\", \"#00BFC4\", \"#619CFF\")) "
   ]
  },
  {
   "cell_type": "markdown",
   "metadata": {},
   "source": [
    "### Conclusion"
   ]
  },
  {
   "cell_type": "markdown",
   "metadata": {},
   "source": [
    "\n",
    "In conclusion, this analysis involved exploring and modeling the factors influencing the \"Average Basic Life\" cost for employees. The first model, a multiple linear regression, revealed that attributes such as \"Average Dental Cost,\" \"Permanent Bonus Pay,\" and \"Q1 Payments\" significantly impact the target variable. However, the model's performance, indicated by the R-squared value of 0.35, suggests that there is room for improvement. \n",
    "\n",
    "Subsequently, a stepwise selection method was applied to identify a set of predictors. This streamlined model demonstrated a higher R-squared value of 0.92, emphasizing the effectiveness of feature selection. \n",
    "\n",
    "Lastly, the implementation of Principal Component Analysis (PCA) in the third model provided insights into the linear combinations of features. This model achieved a R-squared value of 0.32 similar to the first model applied. \n",
    "\n",
    "Finally, the comparison of Mean Squared Errors (MSE) indicates that the stepwise selection model performed the best among the three, showcasing its potential for accurate predictions and reduced complexity. The findings portray the importance of thoughtful feature selection in enhancing predictive power."
   ]
  },
  {
   "cell_type": "markdown",
   "metadata": {},
   "source": [
    "~ **fin** ~"
   ]
  },
  {
   "cell_type": "code",
   "execution_count": null,
   "metadata": {
    "vscode": {
     "languageId": "r"
    }
   },
   "outputs": [],
   "source": []
  }
 ],
 "metadata": {
  "kernelspec": {
   "display_name": "R",
   "language": "R",
   "name": "ir"
  },
  "language_info": {
   "codemirror_mode": "r",
   "file_extension": ".r",
   "mimetype": "text/x-r-source",
   "name": "R",
   "pygments_lexer": "r",
   "version": "3.5.1"
  }
 },
 "nbformat": 4,
 "nbformat_minor": 2
}
